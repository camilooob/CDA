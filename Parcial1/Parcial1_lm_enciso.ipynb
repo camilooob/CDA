{
  "cells": [
    {
      "cell_type": "markdown",
      "metadata": {
        "id": "view-in-github",
        "colab_type": "text"
      },
      "source": [
        "<a href=\"https://colab.research.google.com/github/lmencisoe/CDA/blob/main/Parcial1/Parcial1_lm_enciso.ipynb\" target=\"_parent\"><img src=\"https://colab.research.google.com/assets/colab-badge.svg\" alt=\"Open In Colab\"/></a>"
      ]
    },
    {
      "cell_type": "markdown",
      "metadata": {
        "id": "CzauG-dDnXMv"
      },
      "source": [
        "# Parcial 1\n",
        "\n",
        "MINE-4101: Applied Data Science  \n",
        "Univerisdad de los Andes  \n",
        "\n",
        "## **Luis Miguel Enciso**"
      ]
    },
    {
      "cell_type": "code",
      "execution_count": 1,
      "metadata": {
        "id": "_qE53NNTnXMv",
        "colab": {
          "base_uri": "https://localhost:8080/"
        },
        "outputId": "98ce40ec-d1f2-4ef7-b640-2300f1af03a9"
      },
      "outputs": [
        {
          "output_type": "stream",
          "name": "stdout",
          "text": [
            "Looking in indexes: https://pypi.org/simple, https://us-python.pkg.dev/colab-wheels/public/simple/\n",
            "Requirement already satisfied: pylev in /usr/local/lib/python3.7/dist-packages (1.4.0)\n"
          ]
        }
      ],
      "source": [
        "!pip install pylev"
      ]
    },
    {
      "cell_type": "code",
      "execution_count": 2,
      "metadata": {
        "id": "Hw1x6Cr1nXMx"
      },
      "outputs": [],
      "source": [
        "# Importing required libraries\n",
        "\n",
        "import re\n",
        "from random import randint\n",
        "from datetime import datetime\n",
        "\n",
        "import numpy as np\n",
        "import pandas as pd\n",
        "\n",
        "import pylev"
      ]
    },
    {
      "cell_type": "code",
      "execution_count": 3,
      "metadata": {
        "id": "mMMb518SnXMx"
      },
      "outputs": [],
      "source": [
        "# Parameter for showing all columns when printing a dataframe\n",
        "pd.set_option('display.max_columns', None)"
      ]
    },
    {
      "cell_type": "code",
      "execution_count": 7,
      "metadata": {
        "id": "k8O7abpKnXMy"
      },
      "outputs": [],
      "source": [
        "# Loading data\n",
        "data_alpes = pd.read_csv(\"https://raw.githubusercontent.com/lmencisoe/CDA/main/Parcial1/airbnb_train_sample.csv\")"
      ]
    },
    {
      "cell_type": "code",
      "execution_count": 8,
      "metadata": {
        "id": "Xxi-v1lJnXMy",
        "colab": {
          "base_uri": "https://localhost:8080/"
        },
        "outputId": "849ef44d-729d-4a9c-bf83-9fcfbb768776"
      },
      "outputs": [
        {
          "output_type": "execute_result",
          "data": {
            "text/plain": [
              "(10, 16)"
            ]
          },
          "metadata": {},
          "execution_count": 8
        }
      ],
      "source": [
        "# Printing the dataset dimensions\n",
        "data_alpes.shape"
      ]
    },
    {
      "cell_type": "code",
      "execution_count": 9,
      "metadata": {
        "id": "B5ovPOD_nXMz",
        "colab": {
          "base_uri": "https://localhost:8080/"
        },
        "outputId": "5ffad765-399e-4490-ff19-0e499e16a398"
      },
      "outputs": [
        {
          "output_type": "execute_result",
          "data": {
            "text/plain": [
              "id                       int64\n",
              "neighbourhood group     object\n",
              "neighbourhood           object\n",
              "lat                    float64\n",
              "long                   float64\n",
              "country                 object\n",
              "instant_bookable          bool\n",
              "cancellation_policy     object\n",
              "room type               object\n",
              "construction year      float64\n",
              "price                   object\n",
              "service fee             object\n",
              "minimum nights         float64\n",
              "availability 365       float64\n",
              "number of reviews      float64\n",
              "review rate number     float64\n",
              "dtype: object"
            ]
          },
          "metadata": {},
          "execution_count": 9
        }
      ],
      "source": [
        "# Printing column data types\n",
        "data_alpes.dtypes"
      ]
    },
    {
      "cell_type": "code",
      "execution_count": 11,
      "metadata": {
        "id": "dLclVEpTnXM1",
        "colab": {
          "base_uri": "https://localhost:8080/",
          "height": 615
        },
        "outputId": "c69ffd94-be1c-49ff-ae02-35bf6747767a"
      },
      "outputs": [
        {
          "output_type": "execute_result",
          "data": {
            "text/plain": [
              "         id neighbourhood group        neighbourhood       lat      long  \\\n",
              "0  31652329              Queens           St. Albans  40.68935 -73.77592   \n",
              "1  47617665           Manhattan  Morningside Heights  40.80752 -73.96713   \n",
              "2  30443897              Queens               Corona  40.74942 -73.85123   \n",
              "3  34527603           Manhattan               Harlem  40.81080 -73.93952   \n",
              "4  36350193            Brooklyn             Bushwick  40.69985 -73.93358   \n",
              "5  29784451              Queens        Richmond Hill  40.68420 -73.82864   \n",
              "6  15126961              Queens              Astoria  40.76972 -73.92662   \n",
              "7  29275230              Queens            Ridgewood  40.70529 -73.91332   \n",
              "8  15864281           Manhattan         East Village  40.72535 -73.98244   \n",
              "9  11722584            Brooklyn     Prospect Heights  40.67419 -73.96423   \n",
              "\n",
              "         country  instant_bookable cancellation_policy        room type  \\\n",
              "0  United States             False              strict     Private room   \n",
              "1  United States             False            flexible  Entire home/apt   \n",
              "2  United States             False            flexible     Private room   \n",
              "3  United States             False            flexible     Private room   \n",
              "4  United States              True              strict     Private room   \n",
              "5  United States             False            moderate  Entire home/apt   \n",
              "6  United States             False            moderate     Private room   \n",
              "7  United States              True            moderate  Entire home/apt   \n",
              "8  United States             False              strict     Private room   \n",
              "9  United States              True              strict     Private room   \n",
              "\n",
              "   construction year   price service fee  minimum nights  availability 365  \\\n",
              "0             2004.0   $ 566       $ 113             1.0             363.0   \n",
              "1             2011.0   $ 267        $ 53             7.0             393.0   \n",
              "2             2015.0   $ 781       $ 156             1.0              65.0   \n",
              "3             2020.0   $ 982       $ 196             2.0             122.0   \n",
              "4             2021.0   $ 901       $ 180             2.0             178.0   \n",
              "5             2004.0   $ 960       $ 192             1.0             363.0   \n",
              "6             2004.0  $ 1,19       $ 237             1.0             250.0   \n",
              "7             2009.0   $ 652       $ 130             1.0              31.0   \n",
              "8             2016.0   $ 242        $ 48             3.0               0.0   \n",
              "9             2015.0  $ 1,15       $ 230             3.0               0.0   \n",
              "\n",
              "   number of reviews  review rate number  \n",
              "0               27.0                 3.0  \n",
              "1                5.0                 4.0  \n",
              "2               51.0                 3.0  \n",
              "3               44.0                 2.0  \n",
              "4                4.0                 3.0  \n",
              "5                4.0                 3.0  \n",
              "6               19.0                 5.0  \n",
              "7               13.0                 5.0  \n",
              "8               51.0                 3.0  \n",
              "9                4.0                 3.0  "
            ],
            "text/html": [
              "\n",
              "  <div id=\"df-a7fbc647-b111-4a70-913d-9cad14d7a8f6\">\n",
              "    <div class=\"colab-df-container\">\n",
              "      <div>\n",
              "<style scoped>\n",
              "    .dataframe tbody tr th:only-of-type {\n",
              "        vertical-align: middle;\n",
              "    }\n",
              "\n",
              "    .dataframe tbody tr th {\n",
              "        vertical-align: top;\n",
              "    }\n",
              "\n",
              "    .dataframe thead th {\n",
              "        text-align: right;\n",
              "    }\n",
              "</style>\n",
              "<table border=\"1\" class=\"dataframe\">\n",
              "  <thead>\n",
              "    <tr style=\"text-align: right;\">\n",
              "      <th></th>\n",
              "      <th>id</th>\n",
              "      <th>neighbourhood group</th>\n",
              "      <th>neighbourhood</th>\n",
              "      <th>lat</th>\n",
              "      <th>long</th>\n",
              "      <th>country</th>\n",
              "      <th>instant_bookable</th>\n",
              "      <th>cancellation_policy</th>\n",
              "      <th>room type</th>\n",
              "      <th>construction year</th>\n",
              "      <th>price</th>\n",
              "      <th>service fee</th>\n",
              "      <th>minimum nights</th>\n",
              "      <th>availability 365</th>\n",
              "      <th>number of reviews</th>\n",
              "      <th>review rate number</th>\n",
              "    </tr>\n",
              "  </thead>\n",
              "  <tbody>\n",
              "    <tr>\n",
              "      <th>0</th>\n",
              "      <td>31652329</td>\n",
              "      <td>Queens</td>\n",
              "      <td>St. Albans</td>\n",
              "      <td>40.68935</td>\n",
              "      <td>-73.77592</td>\n",
              "      <td>United States</td>\n",
              "      <td>False</td>\n",
              "      <td>strict</td>\n",
              "      <td>Private room</td>\n",
              "      <td>2004.0</td>\n",
              "      <td>$ 566</td>\n",
              "      <td>$ 113</td>\n",
              "      <td>1.0</td>\n",
              "      <td>363.0</td>\n",
              "      <td>27.0</td>\n",
              "      <td>3.0</td>\n",
              "    </tr>\n",
              "    <tr>\n",
              "      <th>1</th>\n",
              "      <td>47617665</td>\n",
              "      <td>Manhattan</td>\n",
              "      <td>Morningside Heights</td>\n",
              "      <td>40.80752</td>\n",
              "      <td>-73.96713</td>\n",
              "      <td>United States</td>\n",
              "      <td>False</td>\n",
              "      <td>flexible</td>\n",
              "      <td>Entire home/apt</td>\n",
              "      <td>2011.0</td>\n",
              "      <td>$ 267</td>\n",
              "      <td>$ 53</td>\n",
              "      <td>7.0</td>\n",
              "      <td>393.0</td>\n",
              "      <td>5.0</td>\n",
              "      <td>4.0</td>\n",
              "    </tr>\n",
              "    <tr>\n",
              "      <th>2</th>\n",
              "      <td>30443897</td>\n",
              "      <td>Queens</td>\n",
              "      <td>Corona</td>\n",
              "      <td>40.74942</td>\n",
              "      <td>-73.85123</td>\n",
              "      <td>United States</td>\n",
              "      <td>False</td>\n",
              "      <td>flexible</td>\n",
              "      <td>Private room</td>\n",
              "      <td>2015.0</td>\n",
              "      <td>$ 781</td>\n",
              "      <td>$ 156</td>\n",
              "      <td>1.0</td>\n",
              "      <td>65.0</td>\n",
              "      <td>51.0</td>\n",
              "      <td>3.0</td>\n",
              "    </tr>\n",
              "    <tr>\n",
              "      <th>3</th>\n",
              "      <td>34527603</td>\n",
              "      <td>Manhattan</td>\n",
              "      <td>Harlem</td>\n",
              "      <td>40.81080</td>\n",
              "      <td>-73.93952</td>\n",
              "      <td>United States</td>\n",
              "      <td>False</td>\n",
              "      <td>flexible</td>\n",
              "      <td>Private room</td>\n",
              "      <td>2020.0</td>\n",
              "      <td>$ 982</td>\n",
              "      <td>$ 196</td>\n",
              "      <td>2.0</td>\n",
              "      <td>122.0</td>\n",
              "      <td>44.0</td>\n",
              "      <td>2.0</td>\n",
              "    </tr>\n",
              "    <tr>\n",
              "      <th>4</th>\n",
              "      <td>36350193</td>\n",
              "      <td>Brooklyn</td>\n",
              "      <td>Bushwick</td>\n",
              "      <td>40.69985</td>\n",
              "      <td>-73.93358</td>\n",
              "      <td>United States</td>\n",
              "      <td>True</td>\n",
              "      <td>strict</td>\n",
              "      <td>Private room</td>\n",
              "      <td>2021.0</td>\n",
              "      <td>$ 901</td>\n",
              "      <td>$ 180</td>\n",
              "      <td>2.0</td>\n",
              "      <td>178.0</td>\n",
              "      <td>4.0</td>\n",
              "      <td>3.0</td>\n",
              "    </tr>\n",
              "    <tr>\n",
              "      <th>5</th>\n",
              "      <td>29784451</td>\n",
              "      <td>Queens</td>\n",
              "      <td>Richmond Hill</td>\n",
              "      <td>40.68420</td>\n",
              "      <td>-73.82864</td>\n",
              "      <td>United States</td>\n",
              "      <td>False</td>\n",
              "      <td>moderate</td>\n",
              "      <td>Entire home/apt</td>\n",
              "      <td>2004.0</td>\n",
              "      <td>$ 960</td>\n",
              "      <td>$ 192</td>\n",
              "      <td>1.0</td>\n",
              "      <td>363.0</td>\n",
              "      <td>4.0</td>\n",
              "      <td>3.0</td>\n",
              "    </tr>\n",
              "    <tr>\n",
              "      <th>6</th>\n",
              "      <td>15126961</td>\n",
              "      <td>Queens</td>\n",
              "      <td>Astoria</td>\n",
              "      <td>40.76972</td>\n",
              "      <td>-73.92662</td>\n",
              "      <td>United States</td>\n",
              "      <td>False</td>\n",
              "      <td>moderate</td>\n",
              "      <td>Private room</td>\n",
              "      <td>2004.0</td>\n",
              "      <td>$ 1,19</td>\n",
              "      <td>$ 237</td>\n",
              "      <td>1.0</td>\n",
              "      <td>250.0</td>\n",
              "      <td>19.0</td>\n",
              "      <td>5.0</td>\n",
              "    </tr>\n",
              "    <tr>\n",
              "      <th>7</th>\n",
              "      <td>29275230</td>\n",
              "      <td>Queens</td>\n",
              "      <td>Ridgewood</td>\n",
              "      <td>40.70529</td>\n",
              "      <td>-73.91332</td>\n",
              "      <td>United States</td>\n",
              "      <td>True</td>\n",
              "      <td>moderate</td>\n",
              "      <td>Entire home/apt</td>\n",
              "      <td>2009.0</td>\n",
              "      <td>$ 652</td>\n",
              "      <td>$ 130</td>\n",
              "      <td>1.0</td>\n",
              "      <td>31.0</td>\n",
              "      <td>13.0</td>\n",
              "      <td>5.0</td>\n",
              "    </tr>\n",
              "    <tr>\n",
              "      <th>8</th>\n",
              "      <td>15864281</td>\n",
              "      <td>Manhattan</td>\n",
              "      <td>East Village</td>\n",
              "      <td>40.72535</td>\n",
              "      <td>-73.98244</td>\n",
              "      <td>United States</td>\n",
              "      <td>False</td>\n",
              "      <td>strict</td>\n",
              "      <td>Private room</td>\n",
              "      <td>2016.0</td>\n",
              "      <td>$ 242</td>\n",
              "      <td>$ 48</td>\n",
              "      <td>3.0</td>\n",
              "      <td>0.0</td>\n",
              "      <td>51.0</td>\n",
              "      <td>3.0</td>\n",
              "    </tr>\n",
              "    <tr>\n",
              "      <th>9</th>\n",
              "      <td>11722584</td>\n",
              "      <td>Brooklyn</td>\n",
              "      <td>Prospect Heights</td>\n",
              "      <td>40.67419</td>\n",
              "      <td>-73.96423</td>\n",
              "      <td>United States</td>\n",
              "      <td>True</td>\n",
              "      <td>strict</td>\n",
              "      <td>Private room</td>\n",
              "      <td>2015.0</td>\n",
              "      <td>$ 1,15</td>\n",
              "      <td>$ 230</td>\n",
              "      <td>3.0</td>\n",
              "      <td>0.0</td>\n",
              "      <td>4.0</td>\n",
              "      <td>3.0</td>\n",
              "    </tr>\n",
              "  </tbody>\n",
              "</table>\n",
              "</div>\n",
              "      <button class=\"colab-df-convert\" onclick=\"convertToInteractive('df-a7fbc647-b111-4a70-913d-9cad14d7a8f6')\"\n",
              "              title=\"Convert this dataframe to an interactive table.\"\n",
              "              style=\"display:none;\">\n",
              "        \n",
              "  <svg xmlns=\"http://www.w3.org/2000/svg\" height=\"24px\"viewBox=\"0 0 24 24\"\n",
              "       width=\"24px\">\n",
              "    <path d=\"M0 0h24v24H0V0z\" fill=\"none\"/>\n",
              "    <path d=\"M18.56 5.44l.94 2.06.94-2.06 2.06-.94-2.06-.94-.94-2.06-.94 2.06-2.06.94zm-11 1L8.5 8.5l.94-2.06 2.06-.94-2.06-.94L8.5 2.5l-.94 2.06-2.06.94zm10 10l.94 2.06.94-2.06 2.06-.94-2.06-.94-.94-2.06-.94 2.06-2.06.94z\"/><path d=\"M17.41 7.96l-1.37-1.37c-.4-.4-.92-.59-1.43-.59-.52 0-1.04.2-1.43.59L10.3 9.45l-7.72 7.72c-.78.78-.78 2.05 0 2.83L4 21.41c.39.39.9.59 1.41.59.51 0 1.02-.2 1.41-.59l7.78-7.78 2.81-2.81c.8-.78.8-2.07 0-2.86zM5.41 20L4 18.59l7.72-7.72 1.47 1.35L5.41 20z\"/>\n",
              "  </svg>\n",
              "      </button>\n",
              "      \n",
              "  <style>\n",
              "    .colab-df-container {\n",
              "      display:flex;\n",
              "      flex-wrap:wrap;\n",
              "      gap: 12px;\n",
              "    }\n",
              "\n",
              "    .colab-df-convert {\n",
              "      background-color: #E8F0FE;\n",
              "      border: none;\n",
              "      border-radius: 50%;\n",
              "      cursor: pointer;\n",
              "      display: none;\n",
              "      fill: #1967D2;\n",
              "      height: 32px;\n",
              "      padding: 0 0 0 0;\n",
              "      width: 32px;\n",
              "    }\n",
              "\n",
              "    .colab-df-convert:hover {\n",
              "      background-color: #E2EBFA;\n",
              "      box-shadow: 0px 1px 2px rgba(60, 64, 67, 0.3), 0px 1px 3px 1px rgba(60, 64, 67, 0.15);\n",
              "      fill: #174EA6;\n",
              "    }\n",
              "\n",
              "    [theme=dark] .colab-df-convert {\n",
              "      background-color: #3B4455;\n",
              "      fill: #D2E3FC;\n",
              "    }\n",
              "\n",
              "    [theme=dark] .colab-df-convert:hover {\n",
              "      background-color: #434B5C;\n",
              "      box-shadow: 0px 1px 3px 1px rgba(0, 0, 0, 0.15);\n",
              "      filter: drop-shadow(0px 1px 2px rgba(0, 0, 0, 0.3));\n",
              "      fill: #FFFFFF;\n",
              "    }\n",
              "  </style>\n",
              "\n",
              "      <script>\n",
              "        const buttonEl =\n",
              "          document.querySelector('#df-a7fbc647-b111-4a70-913d-9cad14d7a8f6 button.colab-df-convert');\n",
              "        buttonEl.style.display =\n",
              "          google.colab.kernel.accessAllowed ? 'block' : 'none';\n",
              "\n",
              "        async function convertToInteractive(key) {\n",
              "          const element = document.querySelector('#df-a7fbc647-b111-4a70-913d-9cad14d7a8f6');\n",
              "          const dataTable =\n",
              "            await google.colab.kernel.invokeFunction('convertToInteractive',\n",
              "                                                     [key], {});\n",
              "          if (!dataTable) return;\n",
              "\n",
              "          const docLinkHtml = 'Like what you see? Visit the ' +\n",
              "            '<a target=\"_blank\" href=https://colab.research.google.com/notebooks/data_table.ipynb>data table notebook</a>'\n",
              "            + ' to learn more about interactive tables.';\n",
              "          element.innerHTML = '';\n",
              "          dataTable['output_type'] = 'display_data';\n",
              "          await google.colab.output.renderOutput(dataTable, element);\n",
              "          const docLink = document.createElement('div');\n",
              "          docLink.innerHTML = docLinkHtml;\n",
              "          element.appendChild(docLink);\n",
              "        }\n",
              "      </script>\n",
              "    </div>\n",
              "  </div>\n",
              "  "
            ]
          },
          "metadata": {},
          "execution_count": 11
        }
      ],
      "source": [
        "data_alpes.head(15)"
      ]
    },
    {
      "cell_type": "code",
      "source": [
        "data_alpes['price'].replace('[\\$,]', '', regex=True).astype(float)"
      ],
      "metadata": {
        "colab": {
          "base_uri": "https://localhost:8080/"
        },
        "id": "4RO6_eCjaKfS",
        "outputId": "cee0c0ff-0e95-4c14-be13-26272ee05a89"
      },
      "execution_count": 15,
      "outputs": [
        {
          "output_type": "execute_result",
          "data": {
            "text/plain": [
              "0    566.0\n",
              "1    267.0\n",
              "2    781.0\n",
              "3    982.0\n",
              "4    901.0\n",
              "5    960.0\n",
              "6    119.0\n",
              "7    652.0\n",
              "8    242.0\n",
              "9    115.0\n",
              "Name: price, dtype: float64"
            ]
          },
          "metadata": {},
          "execution_count": 15
        }
      ]
    }
  ],
  "metadata": {
    "kernelspec": {
      "display_name": "Python 3 (ipykernel)",
      "language": "python",
      "name": "python3"
    },
    "language_info": {
      "codemirror_mode": {
        "name": "ipython",
        "version": 3
      },
      "file_extension": ".py",
      "mimetype": "text/x-python",
      "name": "python",
      "nbconvert_exporter": "python",
      "pygments_lexer": "ipython3",
      "version": "3.9.12"
    },
    "colab": {
      "provenance": [],
      "include_colab_link": true
    }
  },
  "nbformat": 4,
  "nbformat_minor": 0
}