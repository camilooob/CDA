{
  "nbformat": 4,
  "nbformat_minor": 0,
  "metadata": {
    "colab": {
      "private_outputs": true,
      "provenance": [],
      "authorship_tag": "ABX9TyNuTVR5X2NeztqFkGGVbHEx",
      "include_colab_link": true
    },
    "kernelspec": {
      "name": "python3",
      "display_name": "Python 3"
    },
    "language_info": {
      "name": "python"
    },
    "accelerator": "GPU",
    "gpuClass": "standard"
  },
  "cells": [
    {
      "cell_type": "markdown",
      "metadata": {
        "id": "view-in-github",
        "colab_type": "text"
      },
      "source": [
        "<a href=\"https://colab.research.google.com/github/lmencisoe/CDA/blob/main/Taller3/Modelo_Taller3.ipynb\" target=\"_parent\"><img src=\"https://colab.research.google.com/assets/colab-badge.svg\" alt=\"Open In Colab\"/></a>"
      ]
    },
    {
      "cell_type": "code",
      "source": [
        "!pip install --upgrade pandas-profiling"
      ],
      "metadata": {
        "id": "yu5F5ha9UDt8"
      },
      "execution_count": null,
      "outputs": []
    },
    {
      "cell_type": "code",
      "execution_count": null,
      "metadata": {
        "id": "Fhk7Dw51S3nK"
      },
      "outputs": [],
      "source": [
        "import pandas as pd\n",
        "import numpy as np\n",
        "from google.colab import drive\n",
        "drive.mount('/content/drive')\n",
        "import xgboost as xgb\n",
        "import pandas as pd\n",
        "import matplotlib.pyplot as plt\n",
        "%matplotlib inline\n",
        "from pandas_profiling import ProfileReport\n",
        "import tensorflow as tf\n",
        "from sklearn.feature_extraction import DictVectorizer\n",
        "\n",
        "from sklearn import preprocessing\n",
        "from sklearn.linear_model import LogisticRegression\n",
        "from keras.models import Sequential\n",
        "from keras.layers import Dropout, Flatten, Dense, Input, Rescaling, Lambda, MaxPooling2D, Conv2D, AveragePooling2D\n",
        "from sklearn.neural_network import MLPClassifier\n",
        "from sklearn.svm import SVC\n",
        "from sklearn.ensemble import RandomForestClassifier\n",
        "from sklearn.metrics import accuracy_score\n",
        "from sklearn.metrics import ConfusionMatrixDisplay, precision_score, recall_score, f1_score\n",
        "from sklearn.preprocessing import StandardScaler\n",
        "from sklearn.metrics import classification_report, confusion_matrix\n",
        "from sklearn.model_selection import train_test_split\n",
        "from sklearn.tree import DecisionTreeClassifier, plot_tree\n",
        "from sklearn.model_selection  import GridSearchCV\n",
        "import seaborn as sns\n",
        "import warnings\n",
        "import re\n",
        "warnings.filterwarnings('ignore')"
      ]
    },
    {
      "cell_type": "code",
      "source": [
        "df=pd.read_csv(\"/content/drive/MyDrive/Taller3_CDA/Data_Taller_3_modelo.csv\",sep=\";\")"
      ],
      "metadata": {
        "id": "3Bb9P7cgTK6g"
      },
      "execution_count": null,
      "outputs": []
    },
    {
      "cell_type": "code",
      "source": [
        "df['Attrition'][df['Attrition'] == 'Yes'] = 1\n",
        "df['Attrition'][df['Attrition'] == 'No'] = 0\n",
        "df['Attrition'] = df['Attrition'].apply(int)"
      ],
      "metadata": {
        "id": "snBrKDU3dg3u"
      },
      "execution_count": null,
      "outputs": []
    },
    {
      "cell_type": "code",
      "source": [
        "df['OverTime'][df['OverTime'] == 'Yes'] = 1\n",
        "df['OverTime'][df['OverTime'] == 'No'] = 0\n",
        "df['OverTime'] = df['OverTime'].apply(int)"
      ],
      "metadata": {
        "id": "NssK9rzmeCix"
      },
      "execution_count": null,
      "outputs": []
    },
    {
      "cell_type": "code",
      "source": [
        "df.info()"
      ],
      "metadata": {
        "id": "l1P4MLggegCO"
      },
      "execution_count": null,
      "outputs": []
    },
    {
      "cell_type": "code",
      "source": [
        "X_total = df.drop(['JobSatisfaction'], axis=1)\n",
        "Y_total = df['JobSatisfaction']"
      ],
      "metadata": {
        "id": "skviZXbfibr8"
      },
      "execution_count": null,
      "outputs": []
    },
    {
      "cell_type": "code",
      "source": [
        "X_train, X_test, y_train, y_test = train_test_split(X_total, Y_total, test_size=0.2, random_state=2022)"
      ],
      "metadata": {
        "id": "HLl7xSFen0eE"
      },
      "execution_count": null,
      "outputs": []
    },
    {
      "cell_type": "code",
      "source": [
        "#multi:softprob"
      ],
      "metadata": {
        "id": "bw36fgrKpCa2"
      },
      "execution_count": null,
      "outputs": []
    },
    {
      "cell_type": "code",
      "source": [
        "xgb_model = xgb.XGBClassifier()\n",
        "\n",
        "parameters = {'nthread':[1,2,3], #when use hyperthread, xgboost may become slower\n",
        "              'objective':['multi:softprob'],\n",
        "              'learning_rate': [0.01,0.05,0.1], #so called `eta` value\n",
        "              'max_depth': [2,4,6],\n",
        "              'subsample': [0.05,0.1,0.15],\n",
        "              'colsample_bytree': [0.05,0.1,0.15],\n",
        "              #'n_estimators': [30,50,100], #number of trees, change it to 1000 for better results\n",
        "              'seed': [2022]}\n",
        "\n",
        "\n",
        "xgb_grid = GridSearchCV(xgb_model,\n",
        "                        parameters,\n",
        "                        cv = 5,\n",
        "                        n_jobs = 5,\n",
        "                        verbose=True)"
      ],
      "metadata": {
        "id": "YoIuyBimpO3K"
      },
      "execution_count": null,
      "outputs": []
    },
    {
      "cell_type": "code",
      "source": [
        "with tf.device('/device:GPU:0'): \n",
        "    xgb_grid.fit(X_train, \n",
        "                 y_train,\n",
        "                 early_stopping_rounds=20,\n",
        "                 eval_set = [(X_train, y_train),(X_test, y_test)])    "
      ],
      "metadata": {
        "id": "-oCfgj3Qseh0"
      },
      "execution_count": null,
      "outputs": []
    },
    {
      "cell_type": "code",
      "source": [
        "print(xgb_grid.best_score_)\n",
        "print(xgb_grid.best_params_)"
      ],
      "metadata": {
        "id": "VjG2U956vN4K"
      },
      "execution_count": null,
      "outputs": []
    },
    {
      "cell_type": "code",
      "source": [
        "xgb_selecc = xgb.XGBClassifier(nthread=5, #when use hyperthread, xgboost may become slower\n",
        "         objective='multi:softprob',\n",
        "         learning_rate= 0.01, #so called `eta` value\n",
        "         max_depth= 6,\n",
        "         subsample= 0.1,\n",
        "         colsample_bytree= 0.15,\n",
        "         seed = 2022)\n",
        "\n",
        "xgb_selecc.fit(X_train,\n",
        "         y_train,  \n",
        "         eval_metric=\"merror\",\n",
        "         early_stopping_rounds=20,\n",
        "         eval_set = [(X_train, y_train),(X_test, y_test)])"
      ],
      "metadata": {
        "id": "7A7myy3yvt32"
      },
      "execution_count": null,
      "outputs": []
    },
    {
      "cell_type": "code",
      "source": [
        "pred_modelo_train = xgb_selecc.predict(X_train)\n",
        "pred_modelo_test = xgb_selecc.predict(X_test)"
      ],
      "metadata": {
        "id": "ijDv1HNMwF7T"
      },
      "execution_count": null,
      "outputs": []
    },
    {
      "cell_type": "code",
      "source": [
        "class_names = ['1','2','3','4']"
      ],
      "metadata": {
        "id": "GXdwpGtmwmiO"
      },
      "execution_count": null,
      "outputs": []
    },
    {
      "cell_type": "code",
      "source": [
        "print(classification_report(y_train,pred_modelo_train,target_names=list(class_names)))"
      ],
      "metadata": {
        "id": "zGnW-lYOw0PY"
      },
      "execution_count": null,
      "outputs": []
    },
    {
      "cell_type": "code",
      "source": [
        "print(classification_report(y_test,pred_modelo_test,target_names=list(class_names)))"
      ],
      "metadata": {
        "id": "yh0T9y0nwQHu"
      },
      "execution_count": null,
      "outputs": []
    },
    {
      "cell_type": "code",
      "source": [
        "accuracy_score(y_train, pred_modelo_train), accuracy_score(y_test, pred_modelo_test)"
      ],
      "metadata": {
        "id": "UE1ZDrCkyfyR"
      },
      "execution_count": null,
      "outputs": []
    },
    {
      "cell_type": "markdown",
      "source": [
        "#*Random Forest*"
      ],
      "metadata": {
        "id": "TQ7W7dq1kRKg"
      }
    },
    {
      "cell_type": "code",
      "source": [
        "parameters = {\n",
        "    'n_estimators': [10,20,30],\n",
        "    'max_depth': [2,5,7],\n",
        "    'max_features': ['auto', 'sqrt', 'log2'],\n",
        "    'min_samples_split': [3,5,7]\n",
        "}\n",
        "regr = RandomForestClassifier(random_state=0)\n",
        "\n",
        "clf = GridSearchCV(regr, \n",
        "                   parameters,\n",
        "                   cv = 5)\n",
        "clf.fit(X_train, y_train)"
      ],
      "metadata": {
        "id": "fcn6uRrLfhVi"
      },
      "execution_count": null,
      "outputs": []
    },
    {
      "cell_type": "code",
      "source": [
        "print(clf.best_score_)\n",
        "print(clf.best_params_)"
      ],
      "metadata": {
        "id": "tBi5uk-tkt3K"
      },
      "execution_count": null,
      "outputs": []
    },
    {
      "cell_type": "code",
      "source": [
        "rf_selecc = RandomForestClassifier(\n",
        "         n_estimators= 20, #so called `eta` value\n",
        "         max_features = 'log2',\n",
        "         min_samples_split = 7)\n",
        "\n",
        "rf_selecc.fit(X_train,\n",
        "         y_train)"
      ],
      "metadata": {
        "id": "QVYo-3GLk6VJ"
      },
      "execution_count": null,
      "outputs": []
    },
    {
      "cell_type": "code",
      "source": [
        "pred_modelo_train = rf_selecc.predict(X_train)\n",
        "pred_modelo_test = rf_selecc.predict(X_test)"
      ],
      "metadata": {
        "id": "_BbrvSzuniBu"
      },
      "execution_count": null,
      "outputs": []
    },
    {
      "cell_type": "code",
      "source": [
        "print(classification_report(y_train,pred_modelo_train,target_names=list(class_names)))"
      ],
      "metadata": {
        "id": "nJd9MVkEnk1z"
      },
      "execution_count": null,
      "outputs": []
    },
    {
      "cell_type": "code",
      "source": [
        "print(classification_report(y_test,pred_modelo_test,target_names=list(class_names)))"
      ],
      "metadata": {
        "id": "rQJ9CzxKnmiU"
      },
      "execution_count": null,
      "outputs": []
    },
    {
      "cell_type": "code",
      "source": [
        "accuracy_score(y_train, pred_modelo_train), accuracy_score(y_test, pred_modelo_test)"
      ],
      "metadata": {
        "id": "2Uz9JGPwyv0Z"
      },
      "execution_count": null,
      "outputs": []
    },
    {
      "cell_type": "markdown",
      "source": [
        "#*Arbol de decisión*"
      ],
      "metadata": {
        "id": "O-5eGlull-u4"
      }
    },
    {
      "cell_type": "code",
      "source": [
        "parameters = {\n",
        "    'max_depth': [2,5,7],\n",
        "    'min_samples_split': [3,5,7],\n",
        "    'max_features': ['auto', 'sqrt', 'log2']\n",
        "}\n",
        "regr_arb = DecisionTreeClassifier(random_state=0)\n",
        "\n",
        "arbol = GridSearchCV(regr_arb, \n",
        "                   parameters,\n",
        "                   cv = 5)\n",
        "arbol.fit(X_train, y_train)"
      ],
      "metadata": {
        "id": "U-anqkGUmBkO"
      },
      "execution_count": null,
      "outputs": []
    },
    {
      "cell_type": "code",
      "source": [
        "print(arbol.best_score_)\n",
        "print(arbol.best_params_)"
      ],
      "metadata": {
        "id": "a-_DUPxEojem"
      },
      "execution_count": null,
      "outputs": []
    },
    {
      "cell_type": "code",
      "source": [
        "arbol_selecc = DecisionTreeClassifier(\n",
        "         max_depth= 2, #so called `eta` value\n",
        "         min_samples_split = 3,\n",
        "         max_features = 'log2')\n",
        "\n",
        "arbol_selecc.fit(X_train,\n",
        "         y_train)"
      ],
      "metadata": {
        "id": "E6yVFi4romGG"
      },
      "execution_count": null,
      "outputs": []
    },
    {
      "cell_type": "code",
      "source": [
        "pred_modelo_train = arbol_selecc.predict(X_train)\n",
        "pred_modelo_test = arbol_selecc.predict(X_test)"
      ],
      "metadata": {
        "id": "H8lKbooZo8oa"
      },
      "execution_count": null,
      "outputs": []
    },
    {
      "cell_type": "code",
      "source": [
        "print(classification_report(y_train,pred_modelo_train,target_names=list(class_names)))"
      ],
      "metadata": {
        "id": "cpSVwcpapB4B"
      },
      "execution_count": null,
      "outputs": []
    },
    {
      "cell_type": "code",
      "source": [
        "print(classification_report(y_test,pred_modelo_test,target_names=list(class_names)))"
      ],
      "metadata": {
        "id": "UtT-i8wRpPhK"
      },
      "execution_count": null,
      "outputs": []
    },
    {
      "cell_type": "code",
      "source": [
        "accuracy_score(y_train, pred_modelo_train), accuracy_score(y_test, pred_modelo_test)"
      ],
      "metadata": {
        "id": "NP3Mby9-y0w7"
      },
      "execution_count": null,
      "outputs": []
    },
    {
      "cell_type": "markdown",
      "source": [
        "#*Red Neuronal*"
      ],
      "metadata": {
        "id": "ndukGG0JlQ9X"
      }
    },
    {
      "cell_type": "code",
      "source": [
        "y_dict = [{'':str(x)} for x in y_train.tolist()]\n",
        "y_dict_test = [{'':str(x)} for x in y_test.tolist()]\n"
      ],
      "metadata": {
        "id": "wJu6kcX_v8cA"
      },
      "execution_count": null,
      "outputs": []
    },
    {
      "cell_type": "code",
      "source": [
        "vec = DictVectorizer(sparse=False, dtype=int)\n",
        "M_train = vec.fit_transform(y_dict)\n",
        "M_test = vec.fit_transform(y_dict_test)"
      ],
      "metadata": {
        "id": "sJqzNFcNvioq"
      },
      "execution_count": null,
      "outputs": []
    },
    {
      "cell_type": "code",
      "source": [
        "model = Sequential(name=\"RedNeuronal\")\n",
        "model.add(Input(shape=(44),name='Capa_Entrada'))\n",
        "model.add(Dense(20,activation='relu',name='Capa_Densa_1'))\n",
        "model.add(Dense(10,activation='relu',name='Capa_Densa_2'))\n",
        "model.add(Dense(5,activation='relu',name='Capa_Densa_3'))\n",
        "model.add(Dense(len(class_names),activation='softmax',name='Capa_Respuesta'))\n",
        "model.compile(loss='categorical_crossentropy', optimizer='sgd',metrics=[tf.keras.metrics.Precision(), tf.keras.metrics.Recall()])\n",
        "model.summary()"
      ],
      "metadata": {
        "id": "b5fJldRdlTNi"
      },
      "execution_count": null,
      "outputs": []
    },
    {
      "cell_type": "code",
      "source": [
        "my_callbacks = [\n",
        "    tf.keras.callbacks.EarlyStopping(patience=3)\n",
        "]"
      ],
      "metadata": {
        "id": "am8mx796rKJH"
      },
      "execution_count": null,
      "outputs": []
    },
    {
      "cell_type": "code",
      "source": [
        "history = model.fit(X_train, \n",
        "         M_train,           \n",
        "        validation_data=([X_test, M_test]),\n",
        "        epochs=50,\n",
        "        callbacks=my_callbacks\n",
        "    )"
      ],
      "metadata": {
        "id": "-sqp2IFqrMem"
      },
      "execution_count": null,
      "outputs": []
    },
    {
      "cell_type": "code",
      "source": [
        "pred_train = model.predict(X_train)\n",
        "y_pred = list()\n",
        "for i in range(len(pred_train)):\n",
        "    y_pred.append((pred_train[i] == pred_train[i].max()).astype(int))"
      ],
      "metadata": {
        "id": "bMpS8WVSw9f1"
      },
      "execution_count": null,
      "outputs": []
    },
    {
      "cell_type": "code",
      "source": [
        "y_pred = np.array(y_pred)\n",
        "print(classification_report(M_train,y_pred,target_names=list(class_names)))"
      ],
      "metadata": {
        "id": "xH5wfSB4xd1l"
      },
      "execution_count": null,
      "outputs": []
    },
    {
      "cell_type": "code",
      "source": [
        "accuracy_score(M_train, y_pred)"
      ],
      "metadata": {
        "id": "rRMjx0k6y4XX"
      },
      "execution_count": null,
      "outputs": []
    },
    {
      "cell_type": "code",
      "source": [
        "pred_test = model.predict(X_test)\n",
        "y_pred_test = list()\n",
        "for i in range(len(pred_test)):\n",
        "    y_pred_test.append((pred_test[i] == pred_test[i].max()).astype(int))"
      ],
      "metadata": {
        "id": "7TZHjQpezBnn"
      },
      "execution_count": null,
      "outputs": []
    },
    {
      "cell_type": "code",
      "source": [
        "y_pred_test = np.array(y_pred_test)\n",
        "print(classification_report(M_test,y_pred_test,target_names=list(class_names)))"
      ],
      "metadata": {
        "id": "tcp27_IEzJ87"
      },
      "execution_count": null,
      "outputs": []
    },
    {
      "cell_type": "code",
      "source": [
        "accuracy_score(M_test, y_pred_test)"
      ],
      "metadata": {
        "id": "7lWSaIlkzO1I"
      },
      "execution_count": null,
      "outputs": []
    }
  ]
}