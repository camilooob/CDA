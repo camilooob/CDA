{
  "nbformat": 4,
  "nbformat_minor": 0,
  "metadata": {
    "colab": {
      "provenance": [],
      "collapsed_sections": [
        "ekkLstwagNtb",
        "5e_GNQyCYuF9"
      ],
      "include_colab_link": true
    },
    "kernelspec": {
      "name": "python3",
      "display_name": "Python 3"
    },
    "language_info": {
      "name": "python"
    },
    "accelerator": "GPU",
    "gpuClass": "standard"
  },
  "cells": [
    {
      "cell_type": "markdown",
      "metadata": {
        "id": "view-in-github",
        "colab_type": "text"
      },
      "source": [
        "<a href=\"https://colab.research.google.com/github/lmencisoe/CDA/blob/main/Taller3/Talle3.ipynb\" target=\"_parent\"><img src=\"https://colab.research.google.com/assets/colab-badge.svg\" alt=\"Open In Colab\"/></a>"
      ]
    },
    {
      "cell_type": "markdown",
      "source": [
        "## **1.Importación de librerías**"
      ],
      "metadata": {
        "id": "dzO73m7_ckJS"
      }
    },
    {
      "cell_type": "code",
      "source": [
        "import pandas as pd\n",
        "import numpy as np\n",
        "from google.colab import drive\n",
        "drive.mount('/content/drive')\n",
        "import pandas as pd\n",
        "import matplotlib.pyplot as plt\n",
        "%matplotlib inline\n",
        "from pandas_profiling import ProfileReport\n",
        "from sklearn.linear_model import LogisticRegression\n",
        "from sklearn.neural_network import MLPClassifier\n",
        "from sklearn.svm import SVC\n",
        "from sklearn.ensemble import RandomForestClassifier\n",
        "from sklearn.metrics import ConfusionMatrixDisplay, precision_score, recall_score, f1_score\n",
        "from sklearn.preprocessing import StandardScaler\n",
        "from sklearn.model_selection import train_test_split\n",
        "from sklearn.tree import DecisionTreeClassifier, plot_tree\n",
        "import seaborn as sns\n",
        "import warnings\n",
        "import re\n",
        "warnings.filterwarnings('ignore')\n",
        "!pip install --upgrade pandas-profiling"
      ],
      "metadata": {
        "id": "TpbDAHHzc5Nj",
        "colab": {
          "base_uri": "https://localhost:8080/",
          "height": 1000
        },
        "outputId": "29ff22aa-c751-4fa5-8e78-adeb70945b10"
      },
      "execution_count": 2,
      "outputs": [
        {
          "output_type": "stream",
          "name": "stdout",
          "text": [
            "Mounted at /content/drive\n",
            "Looking in indexes: https://pypi.org/simple, https://us-python.pkg.dev/colab-wheels/public/simple/\n",
            "Requirement already satisfied: pandas-profiling in /usr/local/lib/python3.7/dist-packages (1.4.1)\n",
            "Collecting pandas-profiling\n",
            "  Downloading pandas_profiling-3.4.0-py2.py3-none-any.whl (315 kB)\n",
            "\u001b[K     |████████████████████████████████| 315 kB 16.1 MB/s \n",
            "\u001b[?25hRequirement already satisfied: scipy<1.10,>=1.4.1 in /usr/local/lib/python3.7/dist-packages (from pandas-profiling) (1.7.3)\n",
            "Collecting visions[type_image_path]==0.7.5\n",
            "  Downloading visions-0.7.5-py3-none-any.whl (102 kB)\n",
            "\u001b[K     |████████████████████████████████| 102 kB 57.7 MB/s \n",
            "\u001b[?25hRequirement already satisfied: PyYAML<6.1,>=5.0.0 in /usr/local/lib/python3.7/dist-packages (from pandas-profiling) (6.0)\n",
            "Requirement already satisfied: pandas!=1.4.0,<1.6,>1.1 in /usr/local/lib/python3.7/dist-packages (from pandas-profiling) (1.3.5)\n",
            "Requirement already satisfied: numpy<1.24,>=1.16.0 in /usr/local/lib/python3.7/dist-packages (from pandas-profiling) (1.21.6)\n",
            "Requirement already satisfied: jinja2<3.2,>=2.11.1 in /usr/local/lib/python3.7/dist-packages (from pandas-profiling) (2.11.3)\n",
            "Collecting htmlmin==0.1.12\n",
            "  Downloading htmlmin-0.1.12.tar.gz (19 kB)\n",
            "Requirement already satisfied: pydantic<1.11,>=1.8.1 in /usr/local/lib/python3.7/dist-packages (from pandas-profiling) (1.10.2)\n",
            "Requirement already satisfied: seaborn<0.13,>=0.10.1 in /usr/local/lib/python3.7/dist-packages (from pandas-profiling) (0.11.2)\n",
            "Collecting statsmodels<0.14,>=0.13.2\n",
            "  Downloading statsmodels-0.13.5-cp37-cp37m-manylinux_2_17_x86_64.manylinux2014_x86_64.whl (9.9 MB)\n",
            "\u001b[K     |████████████████████████████████| 9.9 MB 66.7 MB/s \n",
            "\u001b[?25hCollecting phik<0.13,>=0.11.1\n",
            "  Downloading phik-0.12.2-cp37-cp37m-manylinux_2_17_x86_64.manylinux2014_x86_64.whl (690 kB)\n",
            "\u001b[K     |████████████████████████████████| 690 kB 58.6 MB/s \n",
            "\u001b[?25hRequirement already satisfied: matplotlib<3.6,>=3.2 in /usr/local/lib/python3.7/dist-packages (from pandas-profiling) (3.2.2)\n",
            "Requirement already satisfied: tqdm<4.65,>=4.48.2 in /usr/local/lib/python3.7/dist-packages (from pandas-profiling) (4.64.1)\n",
            "Collecting multimethod<1.10,>=1.4\n",
            "  Downloading multimethod-1.9-py3-none-any.whl (10 kB)\n",
            "Requirement already satisfied: missingno<0.6,>=0.4.2 in /usr/local/lib/python3.7/dist-packages (from pandas-profiling) (0.5.1)\n",
            "Collecting requests<2.29,>=2.24.0\n",
            "  Downloading requests-2.28.1-py3-none-any.whl (62 kB)\n",
            "\u001b[K     |████████████████████████████████| 62 kB 1.5 MB/s \n",
            "\u001b[?25hRequirement already satisfied: attrs>=19.3.0 in /usr/local/lib/python3.7/dist-packages (from visions[type_image_path]==0.7.5->pandas-profiling) (22.1.0)\n",
            "Collecting tangled-up-in-unicode>=0.0.4\n",
            "  Downloading tangled_up_in_unicode-0.2.0-py3-none-any.whl (4.7 MB)\n",
            "\u001b[K     |████████████████████████████████| 4.7 MB 64.7 MB/s \n",
            "\u001b[?25hRequirement already satisfied: networkx>=2.4 in /usr/local/lib/python3.7/dist-packages (from visions[type_image_path]==0.7.5->pandas-profiling) (2.6.3)\n",
            "Collecting imagehash\n",
            "  Downloading ImageHash-4.3.1-py2.py3-none-any.whl (296 kB)\n",
            "\u001b[K     |████████████████████████████████| 296 kB 72.8 MB/s \n",
            "\u001b[?25hRequirement already satisfied: Pillow in /usr/local/lib/python3.7/dist-packages (from visions[type_image_path]==0.7.5->pandas-profiling) (7.1.2)\n",
            "Requirement already satisfied: MarkupSafe>=0.23 in /usr/local/lib/python3.7/dist-packages (from jinja2<3.2,>=2.11.1->pandas-profiling) (2.0.1)\n",
            "Requirement already satisfied: pyparsing!=2.0.4,!=2.1.2,!=2.1.6,>=2.0.1 in /usr/local/lib/python3.7/dist-packages (from matplotlib<3.6,>=3.2->pandas-profiling) (3.0.9)\n",
            "Requirement already satisfied: python-dateutil>=2.1 in /usr/local/lib/python3.7/dist-packages (from matplotlib<3.6,>=3.2->pandas-profiling) (2.8.2)\n",
            "Requirement already satisfied: cycler>=0.10 in /usr/local/lib/python3.7/dist-packages (from matplotlib<3.6,>=3.2->pandas-profiling) (0.11.0)\n",
            "Requirement already satisfied: kiwisolver>=1.0.1 in /usr/local/lib/python3.7/dist-packages (from matplotlib<3.6,>=3.2->pandas-profiling) (1.4.4)\n",
            "Requirement already satisfied: typing-extensions in /usr/local/lib/python3.7/dist-packages (from kiwisolver>=1.0.1->matplotlib<3.6,>=3.2->pandas-profiling) (4.1.1)\n",
            "Requirement already satisfied: pytz>=2017.3 in /usr/local/lib/python3.7/dist-packages (from pandas!=1.4.0,<1.6,>1.1->pandas-profiling) (2022.6)\n",
            "Requirement already satisfied: joblib>=0.14.1 in /usr/local/lib/python3.7/dist-packages (from phik<0.13,>=0.11.1->pandas-profiling) (1.2.0)\n",
            "Requirement already satisfied: six>=1.5 in /usr/local/lib/python3.7/dist-packages (from python-dateutil>=2.1->matplotlib<3.6,>=3.2->pandas-profiling) (1.15.0)\n",
            "Requirement already satisfied: charset-normalizer<3,>=2 in /usr/local/lib/python3.7/dist-packages (from requests<2.29,>=2.24.0->pandas-profiling) (2.1.1)\n",
            "Requirement already satisfied: urllib3<1.27,>=1.21.1 in /usr/local/lib/python3.7/dist-packages (from requests<2.29,>=2.24.0->pandas-profiling) (1.24.3)\n",
            "Requirement already satisfied: idna<4,>=2.5 in /usr/local/lib/python3.7/dist-packages (from requests<2.29,>=2.24.0->pandas-profiling) (2.10)\n",
            "Requirement already satisfied: certifi>=2017.4.17 in /usr/local/lib/python3.7/dist-packages (from requests<2.29,>=2.24.0->pandas-profiling) (2022.9.24)\n",
            "Requirement already satisfied: patsy>=0.5.2 in /usr/local/lib/python3.7/dist-packages (from statsmodels<0.14,>=0.13.2->pandas-profiling) (0.5.3)\n",
            "Requirement already satisfied: packaging>=21.3 in /usr/local/lib/python3.7/dist-packages (from statsmodels<0.14,>=0.13.2->pandas-profiling) (21.3)\n",
            "Requirement already satisfied: PyWavelets in /usr/local/lib/python3.7/dist-packages (from imagehash->visions[type_image_path]==0.7.5->pandas-profiling) (1.3.0)\n",
            "Building wheels for collected packages: htmlmin\n",
            "  Building wheel for htmlmin (setup.py) ... \u001b[?25l\u001b[?25hdone\n",
            "  Created wheel for htmlmin: filename=htmlmin-0.1.12-py3-none-any.whl size=27098 sha256=09fc931ca968a6b2dd6b244919dae0ed3e2a4a6a8ecd69fb1b52988007367758\n",
            "  Stored in directory: /root/.cache/pip/wheels/70/e1/52/5b14d250ba868768823940c3229e9950d201a26d0bd3ee8655\n",
            "Successfully built htmlmin\n",
            "Installing collected packages: tangled-up-in-unicode, multimethod, visions, imagehash, statsmodels, requests, phik, htmlmin, pandas-profiling\n",
            "  Attempting uninstall: statsmodels\n",
            "    Found existing installation: statsmodels 0.12.2\n",
            "    Uninstalling statsmodels-0.12.2:\n",
            "      Successfully uninstalled statsmodels-0.12.2\n",
            "  Attempting uninstall: requests\n",
            "    Found existing installation: requests 2.23.0\n",
            "    Uninstalling requests-2.23.0:\n",
            "      Successfully uninstalled requests-2.23.0\n",
            "  Attempting uninstall: pandas-profiling\n",
            "    Found existing installation: pandas-profiling 1.4.1\n",
            "    Uninstalling pandas-profiling-1.4.1:\n",
            "      Successfully uninstalled pandas-profiling-1.4.1\n",
            "Successfully installed htmlmin-0.1.12 imagehash-4.3.1 multimethod-1.9 pandas-profiling-3.4.0 phik-0.12.2 requests-2.28.1 statsmodels-0.13.5 tangled-up-in-unicode-0.2.0 visions-0.7.5\n"
          ]
        },
        {
          "output_type": "display_data",
          "data": {
            "application/vnd.colab-display-data+json": {
              "pip_warning": {
                "packages": [
                  "pandas_profiling",
                  "statsmodels"
                ]
              }
            }
          },
          "metadata": {}
        }
      ]
    },
    {
      "cell_type": "markdown",
      "source": [
        "**Objetivo:**\n",
        "\n",
        "1.Predecir desercion laboral basado en la satisfaccion laboral.\n",
        "\n",
        "2.Definir estrategias para evitar fugas de personal.\n",
        "\n",
        "Sector: Farmaeutico\n",
        "\n",
        "Dataset: 1506 rows con 36 columnas\n",
        "\n",
        "\n"
      ],
      "metadata": {
        "id": "cFHX0wCv1AU4"
      }
    },
    {
      "cell_type": "markdown",
      "source": [
        "**Diccionario de Datos**\n",
        "\n",
        "Field - Description\n",
        "\n",
        "Age - Age of the employee\n",
        "\n",
        "Attrition - employee attrition\n",
        "\n",
        "BusinessTravel  -how frequently an employee travels for business purpose\n",
        "\n",
        "DailyRate Daily - wage of an employee\n",
        "\n",
        "Department - Employee department\n",
        "\n",
        "DistanceFromHome - Distance from home to office in KM's\n",
        "\n",
        "Education - Qualification of employee (masked, higher is better)\n",
        "\n",
        "EducationField - Stream of Education\n",
        "\n",
        "EmployeeCount - EmployeeCount\n",
        "\n",
        "EmployeeNumber - employee number\n",
        "\n",
        "EnvironmentSatisfaction - Environment (higher is better)\n",
        "\n",
        "Gender - Gender of employee\n",
        "\n",
        "HourlyRate - employee hourly rate\n",
        "\n",
        "JobInvolvement - Job involvement (higher is better)\n",
        "\n",
        "JobLevel - level of Job (higher is more important)\n",
        "\n",
        "JobRole - job role of an employee\n",
        "\n",
        "JobSatisfaction-  if employee is satisfied?\n",
        "\n",
        "MaritalStatus - employee is married or not\n",
        "\n",
        "MonthlyIncome - income of an employee\n",
        "\n",
        "MonthlyRate - monthly rate of an employee\n",
        "\n",
        "NumCompaniesWorked - number of companies worked for\n",
        "\n",
        "Over18 - age over 18\n",
        "\n",
        "OverTime - employee works over time\n",
        "\n",
        "PercentSalaryHike - salary hike\n",
        "\n",
        "PerformanceRating - performance rate\n",
        "\n",
        "RelationshipSatisfaction - Relationship satisfaction\n",
        "\n",
        "StandardHours - per week standard work hours\n",
        "\n",
        "StockOptionLevel - company stock option level\n",
        "\n",
        "TotalWorkingYears - total working years\n",
        "\n",
        "TrainingTimesLastYear - Training time\n",
        "\n",
        "WorkLifeBalance - Work life balance\n",
        "\n",
        "YearsAtCompany - total years at current company\n",
        "\n",
        "YearsInCurrentRole - total years in current role\n",
        "\n",
        "YearsSinceLastPromotion - years since last promotion\n",
        "\n",
        "YearsWithCurrManager - Years worked under current manager"
      ],
      "metadata": {
        "id": "5ZCZKwjZ1_JL"
      }
    },
    {
      "cell_type": "markdown",
      "source": [
        "### **1. Limpieza y preparación de datos**"
      ],
      "metadata": {
        "id": "ekkLstwagNtb"
      }
    },
    {
      "cell_type": "code",
      "source": [
        "#Abrimos el dataset\n",
        "#df=pd.read_csv(\"/content/drive/MyDrive/Taller 3/Data_Taller_3.csv\",sep=\";\")\n",
        "df=pd.read_csv(\"/content/drive/MyDrive/Taller3_CDA/Data_Taller_3.csv\",sep=\";\")"
      ],
      "metadata": {
        "id": "w_Exob9EgOJa"
      },
      "execution_count": 4,
      "outputs": []
    },
    {
      "cell_type": "code",
      "source": [
        "#Exploramos los datos inciales\n",
        "df.head()"
      ],
      "metadata": {
        "id": "7JOHXQIOhQ7T",
        "colab": {
          "base_uri": "https://localhost:8080/",
          "height": 369
        },
        "outputId": "207dfa7c-8843-4818-8abb-fbac51fd6c8d"
      },
      "execution_count": 5,
      "outputs": [
        {
          "output_type": "execute_result",
          "data": {
            "text/plain": [
              "   JobSatisfaction   Age Attrition     BusinessTravel  DailyRate  \\\n",
              "0              4.0  41.0       Yes      Travel_Rarely       1102   \n",
              "1              2.0  49.0        No  Travel_Frequently        279   \n",
              "2              3.0  37.0       Yes      Travel_Rarely       1373   \n",
              "3              3.0  33.0        No  Travel_Frequently       1392   \n",
              "4              2.0   NaN        No      Travel_Rarely        591   \n",
              "\n",
              "               Department  DistanceFromHome  Education EducationField  \\\n",
              "0                   Sales                 1          2  Life Sciences   \n",
              "1  Research & Development                 8          1  Life Sciences   \n",
              "2  Research & Development                 2          2          Other   \n",
              "3  Research & Development                 3          4  Life Sciences   \n",
              "4  Research & Development                 2          1        Medical   \n",
              "\n",
              "   EmployeeCount  ...  StandardHours  StockOptionLevel TotalWorkingYears  \\\n",
              "0              1  ...           80.0                 0                 8   \n",
              "1              1  ...           80.0                 1                10   \n",
              "2              1  ...           80.0                 0                 7   \n",
              "3              1  ...           80.0                 0                 8   \n",
              "4              1  ...           80.0                 1                 6   \n",
              "\n",
              "   TrainingTimesLastYear  WorkLifeBalance  YearsAtCompany YearsInCurrentRole  \\\n",
              "0                      0                1               6                  4   \n",
              "1                      3                3              10                  7   \n",
              "2                      3                3               0                  0   \n",
              "3                      3                3               8                  7   \n",
              "4                      3                3               2                  2   \n",
              "\n",
              "  YearsSinceLastPromotion  YearsWithCurrManager  NewEmployee  \n",
              "0                       0                     5            0  \n",
              "1                       1                     7            0  \n",
              "2                       0                     0            0  \n",
              "3                       3                     0            0  \n",
              "4                       2                     2            0  \n",
              "\n",
              "[5 rows x 36 columns]"
            ],
            "text/html": [
              "\n",
              "  <div id=\"df-24ea1b0e-89bd-4ed5-80ab-0c07a8ca4e3d\">\n",
              "    <div class=\"colab-df-container\">\n",
              "      <div>\n",
              "<style scoped>\n",
              "    .dataframe tbody tr th:only-of-type {\n",
              "        vertical-align: middle;\n",
              "    }\n",
              "\n",
              "    .dataframe tbody tr th {\n",
              "        vertical-align: top;\n",
              "    }\n",
              "\n",
              "    .dataframe thead th {\n",
              "        text-align: right;\n",
              "    }\n",
              "</style>\n",
              "<table border=\"1\" class=\"dataframe\">\n",
              "  <thead>\n",
              "    <tr style=\"text-align: right;\">\n",
              "      <th></th>\n",
              "      <th>JobSatisfaction</th>\n",
              "      <th>Age</th>\n",
              "      <th>Attrition</th>\n",
              "      <th>BusinessTravel</th>\n",
              "      <th>DailyRate</th>\n",
              "      <th>Department</th>\n",
              "      <th>DistanceFromHome</th>\n",
              "      <th>Education</th>\n",
              "      <th>EducationField</th>\n",
              "      <th>EmployeeCount</th>\n",
              "      <th>...</th>\n",
              "      <th>StandardHours</th>\n",
              "      <th>StockOptionLevel</th>\n",
              "      <th>TotalWorkingYears</th>\n",
              "      <th>TrainingTimesLastYear</th>\n",
              "      <th>WorkLifeBalance</th>\n",
              "      <th>YearsAtCompany</th>\n",
              "      <th>YearsInCurrentRole</th>\n",
              "      <th>YearsSinceLastPromotion</th>\n",
              "      <th>YearsWithCurrManager</th>\n",
              "      <th>NewEmployee</th>\n",
              "    </tr>\n",
              "  </thead>\n",
              "  <tbody>\n",
              "    <tr>\n",
              "      <th>0</th>\n",
              "      <td>4.0</td>\n",
              "      <td>41.0</td>\n",
              "      <td>Yes</td>\n",
              "      <td>Travel_Rarely</td>\n",
              "      <td>1102</td>\n",
              "      <td>Sales</td>\n",
              "      <td>1</td>\n",
              "      <td>2</td>\n",
              "      <td>Life Sciences</td>\n",
              "      <td>1</td>\n",
              "      <td>...</td>\n",
              "      <td>80.0</td>\n",
              "      <td>0</td>\n",
              "      <td>8</td>\n",
              "      <td>0</td>\n",
              "      <td>1</td>\n",
              "      <td>6</td>\n",
              "      <td>4</td>\n",
              "      <td>0</td>\n",
              "      <td>5</td>\n",
              "      <td>0</td>\n",
              "    </tr>\n",
              "    <tr>\n",
              "      <th>1</th>\n",
              "      <td>2.0</td>\n",
              "      <td>49.0</td>\n",
              "      <td>No</td>\n",
              "      <td>Travel_Frequently</td>\n",
              "      <td>279</td>\n",
              "      <td>Research &amp; Development</td>\n",
              "      <td>8</td>\n",
              "      <td>1</td>\n",
              "      <td>Life Sciences</td>\n",
              "      <td>1</td>\n",
              "      <td>...</td>\n",
              "      <td>80.0</td>\n",
              "      <td>1</td>\n",
              "      <td>10</td>\n",
              "      <td>3</td>\n",
              "      <td>3</td>\n",
              "      <td>10</td>\n",
              "      <td>7</td>\n",
              "      <td>1</td>\n",
              "      <td>7</td>\n",
              "      <td>0</td>\n",
              "    </tr>\n",
              "    <tr>\n",
              "      <th>2</th>\n",
              "      <td>3.0</td>\n",
              "      <td>37.0</td>\n",
              "      <td>Yes</td>\n",
              "      <td>Travel_Rarely</td>\n",
              "      <td>1373</td>\n",
              "      <td>Research &amp; Development</td>\n",
              "      <td>2</td>\n",
              "      <td>2</td>\n",
              "      <td>Other</td>\n",
              "      <td>1</td>\n",
              "      <td>...</td>\n",
              "      <td>80.0</td>\n",
              "      <td>0</td>\n",
              "      <td>7</td>\n",
              "      <td>3</td>\n",
              "      <td>3</td>\n",
              "      <td>0</td>\n",
              "      <td>0</td>\n",
              "      <td>0</td>\n",
              "      <td>0</td>\n",
              "      <td>0</td>\n",
              "    </tr>\n",
              "    <tr>\n",
              "      <th>3</th>\n",
              "      <td>3.0</td>\n",
              "      <td>33.0</td>\n",
              "      <td>No</td>\n",
              "      <td>Travel_Frequently</td>\n",
              "      <td>1392</td>\n",
              "      <td>Research &amp; Development</td>\n",
              "      <td>3</td>\n",
              "      <td>4</td>\n",
              "      <td>Life Sciences</td>\n",
              "      <td>1</td>\n",
              "      <td>...</td>\n",
              "      <td>80.0</td>\n",
              "      <td>0</td>\n",
              "      <td>8</td>\n",
              "      <td>3</td>\n",
              "      <td>3</td>\n",
              "      <td>8</td>\n",
              "      <td>7</td>\n",
              "      <td>3</td>\n",
              "      <td>0</td>\n",
              "      <td>0</td>\n",
              "    </tr>\n",
              "    <tr>\n",
              "      <th>4</th>\n",
              "      <td>2.0</td>\n",
              "      <td>NaN</td>\n",
              "      <td>No</td>\n",
              "      <td>Travel_Rarely</td>\n",
              "      <td>591</td>\n",
              "      <td>Research &amp; Development</td>\n",
              "      <td>2</td>\n",
              "      <td>1</td>\n",
              "      <td>Medical</td>\n",
              "      <td>1</td>\n",
              "      <td>...</td>\n",
              "      <td>80.0</td>\n",
              "      <td>1</td>\n",
              "      <td>6</td>\n",
              "      <td>3</td>\n",
              "      <td>3</td>\n",
              "      <td>2</td>\n",
              "      <td>2</td>\n",
              "      <td>2</td>\n",
              "      <td>2</td>\n",
              "      <td>0</td>\n",
              "    </tr>\n",
              "  </tbody>\n",
              "</table>\n",
              "<p>5 rows × 36 columns</p>\n",
              "</div>\n",
              "      <button class=\"colab-df-convert\" onclick=\"convertToInteractive('df-24ea1b0e-89bd-4ed5-80ab-0c07a8ca4e3d')\"\n",
              "              title=\"Convert this dataframe to an interactive table.\"\n",
              "              style=\"display:none;\">\n",
              "        \n",
              "  <svg xmlns=\"http://www.w3.org/2000/svg\" height=\"24px\"viewBox=\"0 0 24 24\"\n",
              "       width=\"24px\">\n",
              "    <path d=\"M0 0h24v24H0V0z\" fill=\"none\"/>\n",
              "    <path d=\"M18.56 5.44l.94 2.06.94-2.06 2.06-.94-2.06-.94-.94-2.06-.94 2.06-2.06.94zm-11 1L8.5 8.5l.94-2.06 2.06-.94-2.06-.94L8.5 2.5l-.94 2.06-2.06.94zm10 10l.94 2.06.94-2.06 2.06-.94-2.06-.94-.94-2.06-.94 2.06-2.06.94z\"/><path d=\"M17.41 7.96l-1.37-1.37c-.4-.4-.92-.59-1.43-.59-.52 0-1.04.2-1.43.59L10.3 9.45l-7.72 7.72c-.78.78-.78 2.05 0 2.83L4 21.41c.39.39.9.59 1.41.59.51 0 1.02-.2 1.41-.59l7.78-7.78 2.81-2.81c.8-.78.8-2.07 0-2.86zM5.41 20L4 18.59l7.72-7.72 1.47 1.35L5.41 20z\"/>\n",
              "  </svg>\n",
              "      </button>\n",
              "      \n",
              "  <style>\n",
              "    .colab-df-container {\n",
              "      display:flex;\n",
              "      flex-wrap:wrap;\n",
              "      gap: 12px;\n",
              "    }\n",
              "\n",
              "    .colab-df-convert {\n",
              "      background-color: #E8F0FE;\n",
              "      border: none;\n",
              "      border-radius: 50%;\n",
              "      cursor: pointer;\n",
              "      display: none;\n",
              "      fill: #1967D2;\n",
              "      height: 32px;\n",
              "      padding: 0 0 0 0;\n",
              "      width: 32px;\n",
              "    }\n",
              "\n",
              "    .colab-df-convert:hover {\n",
              "      background-color: #E2EBFA;\n",
              "      box-shadow: 0px 1px 2px rgba(60, 64, 67, 0.3), 0px 1px 3px 1px rgba(60, 64, 67, 0.15);\n",
              "      fill: #174EA6;\n",
              "    }\n",
              "\n",
              "    [theme=dark] .colab-df-convert {\n",
              "      background-color: #3B4455;\n",
              "      fill: #D2E3FC;\n",
              "    }\n",
              "\n",
              "    [theme=dark] .colab-df-convert:hover {\n",
              "      background-color: #434B5C;\n",
              "      box-shadow: 0px 1px 3px 1px rgba(0, 0, 0, 0.15);\n",
              "      filter: drop-shadow(0px 1px 2px rgba(0, 0, 0, 0.3));\n",
              "      fill: #FFFFFF;\n",
              "    }\n",
              "  </style>\n",
              "\n",
              "      <script>\n",
              "        const buttonEl =\n",
              "          document.querySelector('#df-24ea1b0e-89bd-4ed5-80ab-0c07a8ca4e3d button.colab-df-convert');\n",
              "        buttonEl.style.display =\n",
              "          google.colab.kernel.accessAllowed ? 'block' : 'none';\n",
              "\n",
              "        async function convertToInteractive(key) {\n",
              "          const element = document.querySelector('#df-24ea1b0e-89bd-4ed5-80ab-0c07a8ca4e3d');\n",
              "          const dataTable =\n",
              "            await google.colab.kernel.invokeFunction('convertToInteractive',\n",
              "                                                     [key], {});\n",
              "          if (!dataTable) return;\n",
              "\n",
              "          const docLinkHtml = 'Like what you see? Visit the ' +\n",
              "            '<a target=\"_blank\" href=https://colab.research.google.com/notebooks/data_table.ipynb>data table notebook</a>'\n",
              "            + ' to learn more about interactive tables.';\n",
              "          element.innerHTML = '';\n",
              "          dataTable['output_type'] = 'display_data';\n",
              "          await google.colab.output.renderOutput(dataTable, element);\n",
              "          const docLink = document.createElement('div');\n",
              "          docLink.innerHTML = docLinkHtml;\n",
              "          element.appendChild(docLink);\n",
              "        }\n",
              "      </script>\n",
              "    </div>\n",
              "  </div>\n",
              "  "
            ]
          },
          "metadata": {},
          "execution_count": 5
        }
      ]
    },
    {
      "cell_type": "code",
      "source": [
        "df.shape"
      ],
      "metadata": {
        "id": "8AwGOh1chaPJ",
        "colab": {
          "base_uri": "https://localhost:8080/"
        },
        "outputId": "bc69421f-7748-4ed4-a01c-ed27e59382e5"
      },
      "execution_count": 6,
      "outputs": [
        {
          "output_type": "execute_result",
          "data": {
            "text/plain": [
              "(1506, 36)"
            ]
          },
          "metadata": {},
          "execution_count": 6
        }
      ]
    },
    {
      "cell_type": "code",
      "source": [
        "df.info()"
      ],
      "metadata": {
        "id": "m3S1HsW0hbhK",
        "colab": {
          "base_uri": "https://localhost:8080/"
        },
        "outputId": "67c2cc88-0f6a-4791-9818-8909668d9792"
      },
      "execution_count": 7,
      "outputs": [
        {
          "output_type": "stream",
          "name": "stdout",
          "text": [
            "<class 'pandas.core.frame.DataFrame'>\n",
            "RangeIndex: 1506 entries, 0 to 1505\n",
            "Data columns (total 36 columns):\n",
            " #   Column                    Non-Null Count  Dtype  \n",
            "---  ------                    --------------  -----  \n",
            " 0   JobSatisfaction           1494 non-null   float64\n",
            " 1   Age                       1503 non-null   float64\n",
            " 2   Attrition                 1505 non-null   object \n",
            " 3   BusinessTravel            1506 non-null   object \n",
            " 4   DailyRate                 1506 non-null   int64  \n",
            " 5   Department                1506 non-null   object \n",
            " 6   DistanceFromHome          1506 non-null   int64  \n",
            " 7   Education                 1506 non-null   int64  \n",
            " 8   EducationField            1506 non-null   object \n",
            " 9   EmployeeCount             1506 non-null   int64  \n",
            " 10  EmployeeNumber            1506 non-null   int64  \n",
            " 11  EnvironmentSatisfaction   1506 non-null   int64  \n",
            " 12  Gender                    1506 non-null   object \n",
            " 13  HourlyRate                1506 non-null   int64  \n",
            " 14  JobInvolvement            1506 non-null   int64  \n",
            " 15  JobLevel                  1506 non-null   int64  \n",
            " 16  JobRole                   1506 non-null   object \n",
            " 17  MaritalStatus             1506 non-null   object \n",
            " 18  MonthlyIncome             1506 non-null   int64  \n",
            " 19  MonthlyRate               1506 non-null   int64  \n",
            " 20  NumCompaniesWorked        1506 non-null   int64  \n",
            " 21  Over18                    1506 non-null   object \n",
            " 22  OverTime                  1506 non-null   object \n",
            " 23  PercentSalaryHike         1506 non-null   int64  \n",
            " 24  PerformanceRating         1506 non-null   int64  \n",
            " 25  RelationshipSatisfaction  1506 non-null   int64  \n",
            " 26  StandardHours             1499 non-null   float64\n",
            " 27  StockOptionLevel          1506 non-null   int64  \n",
            " 28  TotalWorkingYears         1506 non-null   int64  \n",
            " 29  TrainingTimesLastYear     1506 non-null   int64  \n",
            " 30  WorkLifeBalance           1506 non-null   int64  \n",
            " 31  YearsAtCompany            1506 non-null   int64  \n",
            " 32  YearsInCurrentRole        1506 non-null   int64  \n",
            " 33  YearsSinceLastPromotion   1506 non-null   int64  \n",
            " 34  YearsWithCurrManager      1506 non-null   int64  \n",
            " 35  NewEmployee               1506 non-null   int64  \n",
            "dtypes: float64(3), int64(24), object(9)\n",
            "memory usage: 423.7+ KB\n"
          ]
        }
      ]
    },
    {
      "cell_type": "code",
      "source": [
        "# Evidenciamos que la variable JobSatisfaction tiene una  escala de 1 a 4\n",
        "df.groupby(['JobSatisfaction'])['JobSatisfaction'].count()"
      ],
      "metadata": {
        "id": "HjAdCbut4SnO",
        "colab": {
          "base_uri": "https://localhost:8080/"
        },
        "outputId": "9db020bf-e1db-4f99-9cb4-5dababe2a922"
      },
      "execution_count": 8,
      "outputs": [
        {
          "output_type": "execute_result",
          "data": {
            "text/plain": [
              "JobSatisfaction\n",
              "1.0    288\n",
              "2.0    279\n",
              "3.0    454\n",
              "4.0    473\n",
              "Name: JobSatisfaction, dtype: int64"
            ]
          },
          "metadata": {},
          "execution_count": 8
        }
      ]
    },
    {
      "cell_type": "code",
      "source": [
        "#Se separan de la base los 12 registros con el valor de la variable objetivo \"Job Satisfation\" nulo para la evaluación del modelo. \n",
        "df_val=df[df['JobSatisfaction'].isna()]\n",
        "df=df[df['JobSatisfaction'].isna()==False]\n",
        "df['JobSatisfaction']=df['JobSatisfaction'].apply(int)\n",
        "df.groupby(['JobSatisfaction'])['JobSatisfaction'].count()"
      ],
      "metadata": {
        "id": "D3Z9g1vKhbj5",
        "colab": {
          "base_uri": "https://localhost:8080/"
        },
        "outputId": "e0de6c16-cee4-4fdc-b399-71a91073b7bc"
      },
      "execution_count": 9,
      "outputs": [
        {
          "output_type": "execute_result",
          "data": {
            "text/plain": [
              "JobSatisfaction\n",
              "1    288\n",
              "2    279\n",
              "3    454\n",
              "4    473\n",
              "Name: JobSatisfaction, dtype: int64"
            ]
          },
          "metadata": {},
          "execution_count": 9
        }
      ]
    },
    {
      "cell_type": "markdown",
      "source": [
        "### **1.1 Corrección de formatos y de datos**"
      ],
      "metadata": {
        "id": "nwfaI5syjNQ7"
      }
    },
    {
      "cell_type": "markdown",
      "source": [
        "#### **1.1.1 Variable Gender** "
      ],
      "metadata": {
        "id": "wvF73F7elfYL"
      }
    },
    {
      "cell_type": "code",
      "source": [
        "# Evidenciamos que la columna Gender tiene valores  no etiquetados correctamente\n",
        "df.groupby(['Gender'])['Gender'].count()"
      ],
      "metadata": {
        "id": "KiwjUZW56ZeB",
        "colab": {
          "base_uri": "https://localhost:8080/"
        },
        "outputId": "ea259edb-5c97-4d5a-a26b-16b1b038320c"
      },
      "execution_count": 10,
      "outputs": [
        {
          "output_type": "execute_result",
          "data": {
            "text/plain": [
              "Gender\n",
              "Fem       241\n",
              "Female    258\n",
              "Male      724\n",
              "female     94\n",
              "man       177\n",
              "Name: Gender, dtype: int64"
            ]
          },
          "metadata": {},
          "execution_count": 10
        }
      ]
    },
    {
      "cell_type": "code",
      "source": [
        "#limpieza datos columna gender\n",
        "conditions = [(df['Gender'].str.upper().str.contains('^FEM*')==True),\n",
        "              (df['Gender'].isin([\"man\"])==True)\n",
        "              ]\n",
        "choices = ['Female','Male']\n",
        "df['Gender']=np.select(conditions, choices, default=df['Gender'])"
      ],
      "metadata": {
        "id": "npfrWObDhbpS"
      },
      "execution_count": 11,
      "outputs": []
    },
    {
      "cell_type": "code",
      "source": [
        "df['Gender'].drop_duplicates()"
      ],
      "metadata": {
        "id": "x-tuNNv5ofIr",
        "colab": {
          "base_uri": "https://localhost:8080/"
        },
        "outputId": "23beca28-78b2-4bfb-e98b-08620f12e3b0"
      },
      "execution_count": 12,
      "outputs": [
        {
          "output_type": "execute_result",
          "data": {
            "text/plain": [
              "0    Female\n",
              "1      Male\n",
              "Name: Gender, dtype: object"
            ]
          },
          "metadata": {},
          "execution_count": 12
        }
      ]
    },
    {
      "cell_type": "code",
      "source": [
        "#Verifiamos si los datos quedaron adecuadamente organizados de la columna Gender\n",
        "df['Gender']=df['Gender'].apply(str)\n",
        "df.groupby(['Gender'])['Gender'].count()"
      ],
      "metadata": {
        "id": "b57QJjFd5j0i",
        "colab": {
          "base_uri": "https://localhost:8080/"
        },
        "outputId": "a6ce35a6-3b23-4df1-8af5-2a3cb6af26c0"
      },
      "execution_count": 13,
      "outputs": [
        {
          "output_type": "execute_result",
          "data": {
            "text/plain": [
              "Gender\n",
              "Female    593\n",
              "Male      901\n",
              "Name: Gender, dtype: int64"
            ]
          },
          "metadata": {},
          "execution_count": 13
        }
      ]
    },
    {
      "cell_type": "markdown",
      "source": [
        "#### **1.1.2 Variable MaritalStatus** "
      ],
      "metadata": {
        "id": "Jy3L5urjozd0"
      }
    },
    {
      "cell_type": "code",
      "source": [
        "df.groupby(['MaritalStatus'])['MaritalStatus'].count()"
      ],
      "metadata": {
        "id": "OXEVMym6hbsI",
        "colab": {
          "base_uri": "https://localhost:8080/"
        },
        "outputId": "5dc66312-0466-4537-a502-ef7d2f2ffdfb"
      },
      "execution_count": 14,
      "outputs": [
        {
          "output_type": "execute_result",
          "data": {
            "text/plain": [
              "MaritalStatus\n",
              "D            15\n",
              "Divorced    321\n",
              "M            14\n",
              "Married     660\n",
              "S            18\n",
              "Single      466\n",
              "Name: MaritalStatus, dtype: int64"
            ]
          },
          "metadata": {},
          "execution_count": 14
        }
      ]
    },
    {
      "cell_type": "code",
      "source": [
        "conditions = [(df['MaritalStatus']==\"S\"),\n",
        "              (df['MaritalStatus']==\"M\"),\n",
        "              (df['MaritalStatus']==\"D\"),\n",
        "              ]\n",
        "choices = ['Single','Married','Divorced']\n",
        "df['MaritalStatus']=np.select(conditions, choices, default=df['MaritalStatus'])"
      ],
      "metadata": {
        "id": "mzrvK4EThbvC"
      },
      "execution_count": 15,
      "outputs": []
    },
    {
      "cell_type": "code",
      "source": [
        "#Verifica Datos limpios \n",
        "df['MaritalStatus']=df['MaritalStatus'].apply(str)\n",
        "df.groupby(['MaritalStatus'])['MaritalStatus'].count()"
      ],
      "metadata": {
        "id": "5apWBun_pWxT",
        "colab": {
          "base_uri": "https://localhost:8080/"
        },
        "outputId": "c4e82b2a-f90f-4836-fc85-54e39b4d7e49"
      },
      "execution_count": 16,
      "outputs": [
        {
          "output_type": "execute_result",
          "data": {
            "text/plain": [
              "MaritalStatus\n",
              "Divorced    336\n",
              "Married     674\n",
              "Single      484\n",
              "Name: MaritalStatus, dtype: int64"
            ]
          },
          "metadata": {},
          "execution_count": 16
        }
      ]
    },
    {
      "cell_type": "markdown",
      "source": [
        "#### **1.1.3 Variable Age** \n"
      ],
      "metadata": {
        "id": "6Io1Qyy8rcsV"
      }
    },
    {
      "cell_type": "code",
      "source": [
        "df.groupby(['Age'])['Age'].count()"
      ],
      "metadata": {
        "id": "T0H2yqcN96M0",
        "colab": {
          "base_uri": "https://localhost:8080/"
        },
        "outputId": "d34e301a-13c7-4c22-f3f8-1bbbe2d9a842"
      },
      "execution_count": 17,
      "outputs": [
        {
          "output_type": "execute_result",
          "data": {
            "text/plain": [
              "Age\n",
              "3.0       2\n",
              "18.0      8\n",
              "19.0      8\n",
              "20.0     11\n",
              "21.0     13\n",
              "22.0     16\n",
              "23.0     15\n",
              "24.0     26\n",
              "25.0     28\n",
              "26.0     39\n",
              "27.0     49\n",
              "28.0     50\n",
              "29.0     66\n",
              "30.0     61\n",
              "31.0     71\n",
              "32.0     63\n",
              "33.0     58\n",
              "34.0     76\n",
              "35.0     81\n",
              "36.0     69\n",
              "37.0     51\n",
              "38.0     59\n",
              "39.0     43\n",
              "40.0     57\n",
              "41.0     40\n",
              "42.0     46\n",
              "43.0     32\n",
              "44.0     33\n",
              "45.0     43\n",
              "46.0     33\n",
              "47.0     24\n",
              "48.0     19\n",
              "49.0     24\n",
              "50.0     30\n",
              "51.0     20\n",
              "52.0     19\n",
              "53.0     19\n",
              "54.0     18\n",
              "55.0     23\n",
              "56.0     14\n",
              "57.0      4\n",
              "58.0     13\n",
              "59.0     10\n",
              "60.0      5\n",
              "190.0     1\n",
              "200.0     1\n",
              "Name: Age, dtype: int64"
            ]
          },
          "metadata": {},
          "execution_count": 17
        }
      ]
    },
    {
      "cell_type": "code",
      "source": [
        "#Ajutamos valores atipicos y tipo de datos\n",
        "df['Age'] = df['Age'].replace('190.0','190')\n",
        "df['Age'] = df['Age'].replace('200.0','200')\n",
        "df['Age'] = df['Age'].replace(3,18)\n",
        "df['Age'] = df['Age'].replace(190,60)\n",
        "df['Age'] = df['Age'].replace(200,60)\n",
        "df['Age'][df['Age'].isna()]=df['TotalWorkingYears']+18\n",
        "df.groupby(['Age'])['Age'].count()"
      ],
      "metadata": {
        "id": "YkVW88DD99ga",
        "colab": {
          "base_uri": "https://localhost:8080/"
        },
        "outputId": "e779beaf-a5d1-41ec-f2f0-3bdb8a4f3ac8"
      },
      "execution_count": 18,
      "outputs": [
        {
          "output_type": "execute_result",
          "data": {
            "text/plain": [
              "Age\n",
              "18.0    10\n",
              "19.0     8\n",
              "20.0    11\n",
              "21.0    13\n",
              "22.0    16\n",
              "23.0    16\n",
              "24.0    27\n",
              "25.0    28\n",
              "26.0    39\n",
              "27.0    49\n",
              "28.0    51\n",
              "29.0    66\n",
              "30.0    61\n",
              "31.0    71\n",
              "32.0    63\n",
              "33.0    58\n",
              "34.0    76\n",
              "35.0    81\n",
              "36.0    69\n",
              "37.0    51\n",
              "38.0    59\n",
              "39.0    43\n",
              "40.0    57\n",
              "41.0    40\n",
              "42.0    46\n",
              "43.0    32\n",
              "44.0    33\n",
              "45.0    43\n",
              "46.0    33\n",
              "47.0    24\n",
              "48.0    19\n",
              "49.0    24\n",
              "50.0    30\n",
              "51.0    20\n",
              "52.0    19\n",
              "53.0    19\n",
              "54.0    18\n",
              "55.0    23\n",
              "56.0    14\n",
              "57.0     4\n",
              "58.0    13\n",
              "59.0    10\n",
              "60.0     7\n",
              "Name: Age, dtype: int64"
            ]
          },
          "metadata": {},
          "execution_count": 18
        }
      ]
    },
    {
      "cell_type": "markdown",
      "source": [
        "#### **1.1.4 Variable Attrion** "
      ],
      "metadata": {
        "id": "Kmlidgzd-pD7"
      }
    },
    {
      "cell_type": "code",
      "source": [
        "df.groupby(['Attrition'])['Attrition'].count()"
      ],
      "metadata": {
        "colab": {
          "base_uri": "https://localhost:8080/"
        },
        "id": "cWjPUJNc-Sf9",
        "outputId": "bc3a12de-124e-4252-929e-0d1fb56feb6f"
      },
      "execution_count": 19,
      "outputs": [
        {
          "output_type": "execute_result",
          "data": {
            "text/plain": [
              "Attrition\n",
              "Na        5\n",
              "No     1243\n",
              "Yes     245\n",
              "Name: Attrition, dtype: int64"
            ]
          },
          "metadata": {},
          "execution_count": 19
        }
      ]
    },
    {
      "cell_type": "code",
      "source": [
        "conditions = [(df['Attrition'].str.upper().str.contains('^NAN*')==True),\n",
        "              (df['Attrition'].isin([\"Na\"])==True)\n",
        "              ]\n",
        "choices = ['No','No']\n",
        "df['Attrition']=np.select(conditions, choices, default=df['Attrition'])\n",
        "df['Attrition']=df['Attrition'].apply(str)\n",
        "df.groupby(['Attrition'])['Attrition'].count()"
      ],
      "metadata": {
        "colab": {
          "base_uri": "https://localhost:8080/"
        },
        "id": "Wo_eqqpG-xxU",
        "outputId": "2977a43e-d963-4561-9010-f4efbd6f92f5"
      },
      "execution_count": 20,
      "outputs": [
        {
          "output_type": "execute_result",
          "data": {
            "text/plain": [
              "Attrition\n",
              "No     1248\n",
              "Yes     245\n",
              "nan       1\n",
              "Name: Attrition, dtype: int64"
            ]
          },
          "metadata": {},
          "execution_count": 20
        }
      ]
    },
    {
      "cell_type": "markdown",
      "source": [
        "#### **1.1.4 Variable BusinessTravel** "
      ],
      "metadata": {
        "id": "DdEbn8M1_59Q"
      }
    },
    {
      "cell_type": "code",
      "source": [
        "#Exploracion datos de la columna BussinessTravel\n",
        "df.groupby(['BusinessTravel'])['BusinessTravel'].count()"
      ],
      "metadata": {
        "colab": {
          "base_uri": "https://localhost:8080/"
        },
        "id": "EPfw5H4W_V5C",
        "outputId": "5c2d81e0-a0a2-493c-8a51-dc90e5ec544a"
      },
      "execution_count": 21,
      "outputs": [
        {
          "output_type": "execute_result",
          "data": {
            "text/plain": [
              "BusinessTravel\n",
              "Non-Travel            154\n",
              "Travel_Frequently     281\n",
              "Travel_Rarely        1059\n",
              "Name: BusinessTravel, dtype: int64"
            ]
          },
          "metadata": {},
          "execution_count": 21
        }
      ]
    },
    {
      "cell_type": "code",
      "source": [
        "df['BusinessTravel'] = df['BusinessTravel'].replace('Non-Travel','Travel_No')\n",
        "df['BusinessTravel']=df['BusinessTravel'].apply(str)\n",
        "df.groupby(['BusinessTravel'])['BusinessTravel'].count()"
      ],
      "metadata": {
        "colab": {
          "base_uri": "https://localhost:8080/"
        },
        "id": "Ntx_I0KtAuCB",
        "outputId": "1ebc0fbd-3e26-47dd-e206-418d08075483"
      },
      "execution_count": 22,
      "outputs": [
        {
          "output_type": "execute_result",
          "data": {
            "text/plain": [
              "BusinessTravel\n",
              "Travel_Frequently     281\n",
              "Travel_No             154\n",
              "Travel_Rarely        1059\n",
              "Name: BusinessTravel, dtype: int64"
            ]
          },
          "metadata": {},
          "execution_count": 22
        }
      ]
    },
    {
      "cell_type": "markdown",
      "source": [
        "#### **1.1.4 Variable DailyRate Daily** "
      ],
      "metadata": {
        "id": "jttlTeAhBVF6"
      }
    },
    {
      "cell_type": "code",
      "source": [
        "#Exploracion datos de la columna DailyRate\n",
        "df['DailyRate']=df['DailyRate'].apply(int)\n",
        "df.groupby(['DailyRate'])['DailyRate'].count()"
      ],
      "metadata": {
        "colab": {
          "base_uri": "https://localhost:8080/"
        },
        "id": "sE5eBGjsBEHE",
        "outputId": "768904e7-2e56-4044-9173-4dbe15380088"
      },
      "execution_count": 23,
      "outputs": [
        {
          "output_type": "execute_result",
          "data": {
            "text/plain": [
              "DailyRate\n",
              "102     1\n",
              "103     2\n",
              "104     1\n",
              "105     1\n",
              "106     1\n",
              "       ..\n",
              "1492    1\n",
              "1495    3\n",
              "1496    2\n",
              "1498    1\n",
              "1499    1\n",
              "Name: DailyRate, Length: 884, dtype: int64"
            ]
          },
          "metadata": {},
          "execution_count": 23
        }
      ]
    },
    {
      "cell_type": "markdown",
      "source": [
        "#### **1.1.4 Variable Department** "
      ],
      "metadata": {
        "id": "VXogCiAECC41"
      }
    },
    {
      "cell_type": "code",
      "source": [
        "#Exploracion datos de la columna DailyRate\n",
        "df['DailyRate']=df['DailyRate'].apply(str)\n",
        "df.groupby(['Department'])['Department'].count()"
      ],
      "metadata": {
        "colab": {
          "base_uri": "https://localhost:8080/"
        },
        "id": "P0lTcnfOCCqQ",
        "outputId": "ef0b2093-a292-4207-c3d5-897510f91bc3"
      },
      "execution_count": 24,
      "outputs": [
        {
          "output_type": "execute_result",
          "data": {
            "text/plain": [
              "Department\n",
              "Human Resources            63\n",
              "Research & Development    982\n",
              "Sales                     449\n",
              "Name: Department, dtype: int64"
            ]
          },
          "metadata": {},
          "execution_count": 24
        }
      ]
    },
    {
      "cell_type": "markdown",
      "source": [
        "#### **1.1.4 Variable DistanceFromHome** "
      ],
      "metadata": {
        "id": "9mQTNBTIDPkr"
      }
    },
    {
      "cell_type": "code",
      "source": [
        "df['DistanceFromHome']=df['DistanceFromHome'].apply(int)\n",
        "df.groupby(['DistanceFromHome'])['DistanceFromHome'].count()"
      ],
      "metadata": {
        "colab": {
          "base_uri": "https://localhost:8080/"
        },
        "id": "lYnE-q-TCOXx",
        "outputId": "d0868ed0-b1ef-4fd3-840e-d7078a182ab2"
      },
      "execution_count": 25,
      "outputs": [
        {
          "output_type": "execute_result",
          "data": {
            "text/plain": [
              "DistanceFromHome\n",
              "1     213\n",
              "2     210\n",
              "3      90\n",
              "4      65\n",
              "5      64\n",
              "6      62\n",
              "7      84\n",
              "8      81\n",
              "9      85\n",
              "10     86\n",
              "11     30\n",
              "12     21\n",
              "13     19\n",
              "14     21\n",
              "15     27\n",
              "16     34\n",
              "17     21\n",
              "18     26\n",
              "19     23\n",
              "20     25\n",
              "21     16\n",
              "22     19\n",
              "23     28\n",
              "24     29\n",
              "25     27\n",
              "26     25\n",
              "27     13\n",
              "28     23\n",
              "29     27\n",
              "Name: DistanceFromHome, dtype: int64"
            ]
          },
          "metadata": {},
          "execution_count": 25
        }
      ]
    },
    {
      "cell_type": "markdown",
      "source": [
        "Se revisa sin existen datos por encima de tres desviaciones estandar del promedio."
      ],
      "metadata": {
        "id": "MvzaKxu9Lzas"
      }
    },
    {
      "cell_type": "code",
      "source": [
        "df[df['DistanceFromHome'] > (df['DistanceFromHome'].mean() + df['DistanceFromHome'].std() * 3)].shape"
      ],
      "metadata": {
        "colab": {
          "base_uri": "https://localhost:8080/"
        },
        "id": "jRKBcl3KDMse",
        "outputId": "b06a3b79-a2f6-4aba-f655-8af5b2afd8f3"
      },
      "execution_count": 26,
      "outputs": [
        {
          "output_type": "execute_result",
          "data": {
            "text/plain": [
              "(0, 36)"
            ]
          },
          "metadata": {},
          "execution_count": 26
        }
      ]
    },
    {
      "cell_type": "markdown",
      "source": [
        "#### **1.1.4 Variable Education** "
      ],
      "metadata": {
        "id": "PYMP6pSHDgLa"
      }
    },
    {
      "cell_type": "code",
      "source": [
        "df['Education']=df['Education'].apply(int)\n",
        "df.groupby(['Education'])['Education'].count()"
      ],
      "metadata": {
        "colab": {
          "base_uri": "https://localhost:8080/"
        },
        "id": "Y2NI-qntDYm6",
        "outputId": "918cfa91-32d3-43d7-8ef2-bc61fc01a8f6"
      },
      "execution_count": 27,
      "outputs": [
        {
          "output_type": "execute_result",
          "data": {
            "text/plain": [
              "Education\n",
              "1    170\n",
              "2    294\n",
              "3    579\n",
              "4    401\n",
              "5     48\n",
              "7      2\n",
              "Name: Education, dtype: int64"
            ]
          },
          "metadata": {},
          "execution_count": 27
        }
      ]
    },
    {
      "cell_type": "markdown",
      "source": [
        "El nivel de educación 7 se reemplazará por el nuivel de educación 5"
      ],
      "metadata": {
        "id": "YD1BnWaMXF6o"
      }
    },
    {
      "cell_type": "code",
      "source": [
        "df['Education'] = df['Education'].replace(7,5)"
      ],
      "metadata": {
        "id": "jG4n97xOW5Zi"
      },
      "execution_count": 28,
      "outputs": []
    },
    {
      "cell_type": "markdown",
      "source": [
        "#### **1.1.4 Variable EducationField** "
      ],
      "metadata": {
        "id": "lOcQmNgVEBKD"
      }
    },
    {
      "cell_type": "code",
      "source": [
        "df.groupby(['EducationField'])['EducationField'].count()"
      ],
      "metadata": {
        "colab": {
          "base_uri": "https://localhost:8080/"
        },
        "id": "xtNFp2ErEAx7",
        "outputId": "11dfc7ea-466d-43c7-a14b-f7bf6e7b9b47"
      },
      "execution_count": 29,
      "outputs": [
        {
          "output_type": "execute_result",
          "data": {
            "text/plain": [
              "EducationField\n",
              "Human Resources      27\n",
              "Life Sciences       614\n",
              "Marketing           159\n",
              "Med                 117\n",
              "Medical             353\n",
              "Other                88\n",
              "Technical Degree    136\n",
              "Name: EducationField, dtype: int64"
            ]
          },
          "metadata": {},
          "execution_count": 29
        }
      ]
    },
    {
      "cell_type": "code",
      "source": [
        "df['EducationField'] = df['EducationField'].replace('Med','Medical')"
      ],
      "metadata": {
        "id": "eGp300e7Dp2Z"
      },
      "execution_count": 30,
      "outputs": []
    },
    {
      "cell_type": "code",
      "source": [
        "df.groupby(['EducationField'])['EducationField'].count()"
      ],
      "metadata": {
        "colab": {
          "base_uri": "https://localhost:8080/"
        },
        "id": "GXeLJfrmKNYS",
        "outputId": "9e49a1a6-136b-45d0-8983-7d15f7e280a9"
      },
      "execution_count": 31,
      "outputs": [
        {
          "output_type": "execute_result",
          "data": {
            "text/plain": [
              "EducationField\n",
              "Human Resources      27\n",
              "Life Sciences       614\n",
              "Marketing           159\n",
              "Medical             470\n",
              "Other                88\n",
              "Technical Degree    136\n",
              "Name: EducationField, dtype: int64"
            ]
          },
          "metadata": {},
          "execution_count": 31
        }
      ]
    },
    {
      "cell_type": "markdown",
      "source": [
        "#### **1.1.4 Variable EmployeeCount** "
      ],
      "metadata": {
        "id": "f7cUKfftKUyd"
      }
    },
    {
      "cell_type": "code",
      "source": [
        "df.groupby(['EmployeeCount'])['EmployeeCount'].count()\n",
        "df['EmployeeCount'] = df['EmployeeCount'].replace(2,1)\n",
        "df['EmployeeCount']=df['EmployeeCount'].apply(int)"
      ],
      "metadata": {
        "id": "Q4HDOzS_KTlv"
      },
      "execution_count": 32,
      "outputs": []
    },
    {
      "cell_type": "code",
      "source": [
        "#Verificamos datos ordenados correctamente\n",
        "df.groupby(['EmployeeCount'])['EmployeeCount'].count()"
      ],
      "metadata": {
        "colab": {
          "base_uri": "https://localhost:8080/"
        },
        "id": "rc-le69FKaQK",
        "outputId": "2de3e66d-a26b-4cac-cbbf-672f35772fe8"
      },
      "execution_count": 33,
      "outputs": [
        {
          "output_type": "execute_result",
          "data": {
            "text/plain": [
              "EmployeeCount\n",
              "1    1494\n",
              "Name: EmployeeCount, dtype: int64"
            ]
          },
          "metadata": {},
          "execution_count": 33
        }
      ]
    },
    {
      "cell_type": "code",
      "source": [
        "del df['EmployeeCount']"
      ],
      "metadata": {
        "id": "gmUp-_gU2_5C"
      },
      "execution_count": 34,
      "outputs": []
    },
    {
      "cell_type": "markdown",
      "source": [
        "#### **1.1.4 Variable EmployeeNumber** "
      ],
      "metadata": {
        "id": "UX0xjETaKzDO"
      }
    },
    {
      "cell_type": "code",
      "source": [
        "#Exploramos los datos \n",
        "df['EmployeeNumber']=df['EmployeeNumber'].apply(int)\n",
        "df.groupby(['EmployeeNumber'])['EmployeeNumber'].count()\n",
        "del df['EmployeeNumber']"
      ],
      "metadata": {
        "id": "fKSa0XnoKuFV"
      },
      "execution_count": 35,
      "outputs": []
    },
    {
      "cell_type": "markdown",
      "source": [
        "#### **1.1.4 Variable EnvironmentSatisfaction** "
      ],
      "metadata": {
        "id": "XdR2gN-BLGGy"
      }
    },
    {
      "cell_type": "code",
      "source": [
        "#Exploramos los datos \n",
        "df['EnvironmentSatisfaction']=df['EnvironmentSatisfaction'].apply(int)\n",
        "df.groupby(['EnvironmentSatisfaction'])['EnvironmentSatisfaction'].count()"
      ],
      "metadata": {
        "colab": {
          "base_uri": "https://localhost:8080/"
        },
        "id": "aNelxpR9LSnW",
        "outputId": "24ee29e0-18fa-4213-b620-430ac715e212"
      },
      "execution_count": 36,
      "outputs": [
        {
          "output_type": "execute_result",
          "data": {
            "text/plain": [
              "EnvironmentSatisfaction\n",
              "1    285\n",
              "2    290\n",
              "3    460\n",
              "4    459\n",
              "Name: EnvironmentSatisfaction, dtype: int64"
            ]
          },
          "metadata": {},
          "execution_count": 36
        }
      ]
    },
    {
      "cell_type": "markdown",
      "source": [
        "#### **1.1.4 Variable HourlyRate** "
      ],
      "metadata": {
        "id": "jACx-EGALnzS"
      }
    },
    {
      "cell_type": "code",
      "source": [
        "#Exploramos los datos \n",
        "df['HourlyRate']=df['HourlyRate'].apply(int)\n",
        "df.groupby(['HourlyRate'])['HourlyRate'].count()"
      ],
      "metadata": {
        "colab": {
          "base_uri": "https://localhost:8080/"
        },
        "id": "n_5Kl9xGLYAo",
        "outputId": "a4552b59-9ec0-4895-f01c-7fc641e374af"
      },
      "execution_count": 37,
      "outputs": [
        {
          "output_type": "execute_result",
          "data": {
            "text/plain": [
              "HourlyRate\n",
              "30     19\n",
              "31     16\n",
              "32     24\n",
              "33     19\n",
              "34     12\n",
              "       ..\n",
              "150     1\n",
              "169     1\n",
              "179     1\n",
              "186     1\n",
              "190     1\n",
              "Name: HourlyRate, Length: 76, dtype: int64"
            ]
          },
          "metadata": {},
          "execution_count": 37
        }
      ]
    },
    {
      "cell_type": "code",
      "source": [
        "df[df['HourlyRate'] > (df['HourlyRate'].mean() + df['HourlyRate'].std() * 3)]\n",
        "Q1 = df['HourlyRate'].quantile(0.25)\n",
        "Q3 = df['HourlyRate'].quantile(0.75)\n",
        "IQR = Q3 - Q1\n",
        "df['HourlyRate'][df['HourlyRate'] > (df['HourlyRate'].mean() + df['HourlyRate'].std() * 3)]=Q3+(1.5*IQR)"
      ],
      "metadata": {
        "id": "8m8KTayaXis1"
      },
      "execution_count": 39,
      "outputs": []
    },
    {
      "cell_type": "markdown",
      "source": [
        "#### **1.1.4 Variable JobInvolvement** "
      ],
      "metadata": {
        "id": "a_MqucGWNvWk"
      }
    },
    {
      "cell_type": "code",
      "source": [
        "#Exploramos los datos \n",
        "df['JobInvolvement']=df['JobInvolvement'].apply(int)\n",
        "df.groupby(['JobInvolvement'])['JobInvolvement'].count()"
      ],
      "metadata": {
        "colab": {
          "base_uri": "https://localhost:8080/"
        },
        "id": "XOufQ3bpMykG",
        "outputId": "d78ea638-15df-4b5a-ceef-e37412565672"
      },
      "execution_count": 40,
      "outputs": [
        {
          "output_type": "execute_result",
          "data": {
            "text/plain": [
              "JobInvolvement\n",
              "1     87\n",
              "2    382\n",
              "3    874\n",
              "4    151\n",
              "Name: JobInvolvement, dtype: int64"
            ]
          },
          "metadata": {},
          "execution_count": 40
        }
      ]
    },
    {
      "cell_type": "markdown",
      "source": [
        "#### **1.1.4 Variable JobLevel** "
      ],
      "metadata": {
        "id": "X3gJ9cxbN_Ob"
      }
    },
    {
      "cell_type": "code",
      "source": [
        "#Exploramos los datos \n",
        "df['JobLevel']=df['JobLevel'].apply(int)\n",
        "df.groupby(['JobLevel'])['JobLevel'].count()"
      ],
      "metadata": {
        "colab": {
          "base_uri": "https://localhost:8080/"
        },
        "id": "5V92bQytNz_m",
        "outputId": "805f74ee-c4f5-451e-b7f1-2419fbf429e4"
      },
      "execution_count": 41,
      "outputs": [
        {
          "output_type": "execute_result",
          "data": {
            "text/plain": [
              "JobLevel\n",
              "1    563\n",
              "2    537\n",
              "3    218\n",
              "4    107\n",
              "5     69\n",
              "Name: JobLevel, dtype: int64"
            ]
          },
          "metadata": {},
          "execution_count": 41
        }
      ]
    },
    {
      "cell_type": "markdown",
      "source": [
        "#### **1.1.4 Variable JobRole** "
      ],
      "metadata": {
        "id": "-Zp7kA-5OWpN"
      }
    },
    {
      "cell_type": "code",
      "source": [
        "#Exploramos los datos \n",
        "\n",
        "df['JobRole']=df['JobRole'].apply(str)\n",
        "df['JobRole'] = df['JobRole'].replace('RH','Human Resources')\n",
        "df.groupby(['JobRole'])['JobRole'].count()"
      ],
      "metadata": {
        "colab": {
          "base_uri": "https://localhost:8080/"
        },
        "id": "f3NDiv7kOHK1",
        "outputId": "c6db1a39-b767-4706-a782-f819ddae93a1"
      },
      "execution_count": 42,
      "outputs": [
        {
          "output_type": "execute_result",
          "data": {
            "text/plain": [
              "JobRole\n",
              "Healthcare Representative    134\n",
              "Human Resources               52\n",
              "Lab Tech                     150\n",
              "Laboratory Technician        122\n",
              "Manager                      102\n",
              "Manufacturing Director       143\n",
              "Research Director             79\n",
              "Research Scientist           299\n",
              "Sales Executive              327\n",
              "Sales Representative          86\n",
              "Name: JobRole, dtype: int64"
            ]
          },
          "metadata": {},
          "execution_count": 42
        }
      ]
    },
    {
      "cell_type": "markdown",
      "source": [
        "#### **1.1.4 Variable JobSatisfaction** "
      ],
      "metadata": {
        "id": "NyEsT61nPI9x"
      }
    },
    {
      "cell_type": "code",
      "source": [
        "df['JobSatisfaction']=df['JobSatisfaction'].apply(int)\n",
        "df.groupby(['JobSatisfaction'])['JobSatisfaction'].count()"
      ],
      "metadata": {
        "colab": {
          "base_uri": "https://localhost:8080/"
        },
        "id": "He9t01wVOkcL",
        "outputId": "96fc48a5-7ac0-4758-b7b6-4b7ad83d05f4"
      },
      "execution_count": 43,
      "outputs": [
        {
          "output_type": "execute_result",
          "data": {
            "text/plain": [
              "JobSatisfaction\n",
              "1    288\n",
              "2    279\n",
              "3    454\n",
              "4    473\n",
              "Name: JobSatisfaction, dtype: int64"
            ]
          },
          "metadata": {},
          "execution_count": 43
        }
      ]
    },
    {
      "cell_type": "markdown",
      "source": [
        "#### **1.1.4 Variable MonthlyIncome** "
      ],
      "metadata": {
        "id": "xQWAAsRAPGYW"
      }
    },
    {
      "cell_type": "code",
      "source": [
        "# Explora datos y ajusta tipo de dato\n",
        "df['MonthlyIncome']=df['MonthlyIncome'].apply(float)\n",
        "df.groupby(['MonthlyIncome'])['MonthlyIncome'].count()"
      ],
      "metadata": {
        "colab": {
          "base_uri": "https://localhost:8080/"
        },
        "id": "b_Q1PG9NPgCT",
        "outputId": "ce6d0723-fcd3-48a1-855e-21be43342ed7"
      },
      "execution_count": 45,
      "outputs": [
        {
          "output_type": "execute_result",
          "data": {
            "text/plain": [
              "MonthlyIncome\n",
              "25.0         1\n",
              "50.0         1\n",
              "1009.0       1\n",
              "1051.0       1\n",
              "1052.0       1\n",
              "            ..\n",
              "19926.0      1\n",
              "19943.0      1\n",
              "19973.0      1\n",
              "19999.0      1\n",
              "9907000.0    1\n",
              "Name: MonthlyIncome, Length: 1339, dtype: int64"
            ]
          },
          "metadata": {},
          "execution_count": 45
        }
      ]
    },
    {
      "cell_type": "markdown",
      "source": [
        "Se identifica un valor atípico, y es reemplazado por el máximo de los valores típicos"
      ],
      "metadata": {
        "id": "9wsyB1MBeQ-g"
      }
    },
    {
      "cell_type": "code",
      "source": [
        "Q1 = df['MonthlyIncome'].quantile(0.25)\n",
        "Q3 = df['MonthlyIncome'].quantile(0.75)\n",
        "IQR = Q3 - Q1\n",
        "df['MonthlyIncome'][df['MonthlyIncome'] > (df['MonthlyIncome'].mean() + df['MonthlyIncome'].std() * 3)]=Q3+(1.5*IQR)"
      ],
      "metadata": {
        "id": "ZelLTxPYY9Po"
      },
      "execution_count": 46,
      "outputs": []
    },
    {
      "cell_type": "markdown",
      "source": [
        "#### **1.1.4 Variable MonthlyRate** "
      ],
      "metadata": {
        "id": "gNT5pam7QLZK"
      }
    },
    {
      "cell_type": "code",
      "source": [
        "df['MonthlyRate']=df['MonthlyRate'].apply(int)\n",
        "df.groupby(['MonthlyRate'])['MonthlyRate'].count()"
      ],
      "metadata": {
        "colab": {
          "base_uri": "https://localhost:8080/"
        },
        "id": "Qo-ML_-kQLQv",
        "outputId": "d27df242-246b-4794-f52e-6d9777cd2a7b"
      },
      "execution_count": 47,
      "outputs": [
        {
          "output_type": "execute_result",
          "data": {
            "text/plain": [
              "MonthlyRate\n",
              "2094     2\n",
              "2097     1\n",
              "2104     1\n",
              "2112     1\n",
              "2122     1\n",
              "        ..\n",
              "26956    1\n",
              "26959    1\n",
              "26968    1\n",
              "26997    1\n",
              "26999    1\n",
              "Name: MonthlyRate, Length: 1416, dtype: int64"
            ]
          },
          "metadata": {},
          "execution_count": 47
        }
      ]
    },
    {
      "cell_type": "code",
      "source": [
        "df[df['MonthlyRate'] > (df['MonthlyRate'].mean() + df['MonthlyRate'].std() * 3)].shape"
      ],
      "metadata": {
        "colab": {
          "base_uri": "https://localhost:8080/"
        },
        "id": "OxoyowXqezAv",
        "outputId": "14b70db6-4267-46b8-a71d-92ca933981d9"
      },
      "execution_count": 48,
      "outputs": [
        {
          "output_type": "execute_result",
          "data": {
            "text/plain": [
              "(0, 34)"
            ]
          },
          "metadata": {},
          "execution_count": 48
        }
      ]
    },
    {
      "cell_type": "markdown",
      "source": [
        "No se identifican valores atípicos para esta variable"
      ],
      "metadata": {
        "id": "r9QboJjOgArJ"
      }
    },
    {
      "cell_type": "markdown",
      "source": [
        "#### **1.1.4 Variable NumCompaniesWorked** "
      ],
      "metadata": {
        "id": "-sURcGTsQj6p"
      }
    },
    {
      "cell_type": "code",
      "source": [
        "#Exploramos datos \n",
        "#Numero de compañias en las que ha trabajado en el pasado - Equivale de cierta manera a la experiencia acumulada del empleado\n",
        "df['NumCompaniesWorked']=df['NumCompaniesWorked'].apply(int)\n",
        "df.groupby(['NumCompaniesWorked'])['NumCompaniesWorked'].count()"
      ],
      "metadata": {
        "colab": {
          "base_uri": "https://localhost:8080/"
        },
        "id": "O3Uas32bPhzt",
        "outputId": "6204104b-a282-4f2a-9e17-df08e95bd112"
      },
      "execution_count": 49,
      "outputs": [
        {
          "output_type": "execute_result",
          "data": {
            "text/plain": [
              "NumCompaniesWorked\n",
              "0    198\n",
              "1    531\n",
              "2    151\n",
              "3    162\n",
              "4    143\n",
              "5     63\n",
              "6     71\n",
              "7     73\n",
              "8     50\n",
              "9     52\n",
              "Name: NumCompaniesWorked, dtype: int64"
            ]
          },
          "metadata": {},
          "execution_count": 49
        }
      ]
    },
    {
      "cell_type": "markdown",
      "source": [
        "#### **1.1.4 Variable Over18** "
      ],
      "metadata": {
        "id": "Yz0gc8dYRr6u"
      }
    },
    {
      "cell_type": "code",
      "source": [
        "# Explora datos variable mas 18 años \n",
        "df['Over18']=df['Over18'].apply(str)\n",
        "df.groupby(['Over18'])['Over18'].count()\n",
        " # Se evidencia que el 100%  de los empleados tienen  mas de 18 años. Esta variable se debe descartar en el  modelo ya que no influye en los resultados. Por ley todo los empleados deben ser mayores de 18 años. "
      ],
      "metadata": {
        "colab": {
          "base_uri": "https://localhost:8080/"
        },
        "id": "aIT---xtRAP4",
        "outputId": "1d9023cf-b7f6-4774-b322-bb4ed64a6fa1"
      },
      "execution_count": 50,
      "outputs": [
        {
          "output_type": "execute_result",
          "data": {
            "text/plain": [
              "Over18\n",
              "Y    1494\n",
              "Name: Over18, dtype: int64"
            ]
          },
          "metadata": {},
          "execution_count": 50
        }
      ]
    },
    {
      "cell_type": "code",
      "source": [
        "del df['Over18']"
      ],
      "metadata": {
        "id": "-gRoNOB2bxrN"
      },
      "execution_count": 51,
      "outputs": []
    },
    {
      "cell_type": "markdown",
      "source": [
        "#### **1.1.4 Variable OverTime** "
      ],
      "metadata": {
        "id": "94_yVnJQSaTb"
      }
    },
    {
      "cell_type": "code",
      "source": [
        "df.groupby(['OverTime'])['OverTime'].count()\n",
        "#Se reliza el ajuste de Na asumiendo que de los 137 que no tienen informacion significa que no hicieron overtime"
      ],
      "metadata": {
        "colab": {
          "base_uri": "https://localhost:8080/"
        },
        "id": "WOTVbDfyScVD",
        "outputId": "22d5ac70-9cc0-4857-9513-48c9f73c7275"
      },
      "execution_count": 52,
      "outputs": [
        {
          "output_type": "execute_result",
          "data": {
            "text/plain": [
              "OverTime\n",
              "Na     137\n",
              "No     933\n",
              "Yes    424\n",
              "Name: OverTime, dtype: int64"
            ]
          },
          "metadata": {},
          "execution_count": 52
        }
      ]
    },
    {
      "cell_type": "code",
      "source": [
        "df['OverTime'] = df['OverTime'].replace('Na','No')"
      ],
      "metadata": {
        "id": "_85iKjG8SfrN"
      },
      "execution_count": 53,
      "outputs": []
    },
    {
      "cell_type": "code",
      "source": [
        "# Resultado datos limpios \n",
        "df.groupby(['OverTime'])['OverTime'].count()"
      ],
      "metadata": {
        "colab": {
          "base_uri": "https://localhost:8080/"
        },
        "id": "o1KhlU74SvJJ",
        "outputId": "95bd488c-bb7b-4b75-afb4-ca3f8ea97b29"
      },
      "execution_count": 54,
      "outputs": [
        {
          "output_type": "execute_result",
          "data": {
            "text/plain": [
              "OverTime\n",
              "No     1070\n",
              "Yes     424\n",
              "Name: OverTime, dtype: int64"
            ]
          },
          "metadata": {},
          "execution_count": 54
        }
      ]
    },
    {
      "cell_type": "markdown",
      "source": [
        "#### **1.1.4 Variable PercentSalaryHike** "
      ],
      "metadata": {
        "id": "k81IsYkrS1JJ"
      }
    },
    {
      "cell_type": "code",
      "source": [
        "# Exploramos datos - % porcentaje de aumento en el salario\n",
        "df['PercentSalaryHike']=df['PercentSalaryHike'].apply(int)\n",
        "df.groupby(['PercentSalaryHike'])['PercentSalaryHike'].count()"
      ],
      "metadata": {
        "colab": {
          "base_uri": "https://localhost:8080/"
        },
        "id": "IFq7xvj6Sxx4",
        "outputId": "f9672b61-0112-4554-b020-50457a2bee98"
      },
      "execution_count": 55,
      "outputs": [
        {
          "output_type": "execute_result",
          "data": {
            "text/plain": [
              "PercentSalaryHike\n",
              "11    215\n",
              "12    203\n",
              "13    212\n",
              "14    205\n",
              "15    104\n",
              "16     80\n",
              "17     82\n",
              "18     89\n",
              "19     74\n",
              "20     55\n",
              "21     49\n",
              "22     57\n",
              "23     30\n",
              "24     21\n",
              "25     18\n",
              "Name: PercentSalaryHike, dtype: int64"
            ]
          },
          "metadata": {},
          "execution_count": 55
        }
      ]
    },
    {
      "cell_type": "code",
      "source": [
        "df[df['PercentSalaryHike'] > (df['PercentSalaryHike'].mean() + df['PercentSalaryHike'].std() * 3)].shape"
      ],
      "metadata": {
        "colab": {
          "base_uri": "https://localhost:8080/"
        },
        "id": "1uIgtP6ahLTU",
        "outputId": "0ea5fc63-11c0-42ff-cf50-4f7e62f54b90"
      },
      "execution_count": 56,
      "outputs": [
        {
          "output_type": "execute_result",
          "data": {
            "text/plain": [
              "(0, 33)"
            ]
          },
          "metadata": {},
          "execution_count": 56
        }
      ]
    },
    {
      "cell_type": "markdown",
      "source": [
        "Para esta variable no exiten valor atípicos"
      ],
      "metadata": {
        "id": "DROLW-MOhoqj"
      }
    },
    {
      "cell_type": "markdown",
      "source": [
        "#### **1.1.4 Variable PerformanceRating** "
      ],
      "metadata": {
        "id": "VqD0-FtoTPLi"
      }
    },
    {
      "cell_type": "code",
      "source": [
        "# Exploramos datos - Performance \n",
        "df['PerformanceRating']=df['PerformanceRating'].apply(int)\n",
        "df.groupby(['PerformanceRating'])['PerformanceRating'].count()"
      ],
      "metadata": {
        "colab": {
          "base_uri": "https://localhost:8080/"
        },
        "id": "pIgBNPibS5m2",
        "outputId": "75c23012-5d16-4a6c-816e-76dbf247ebb8"
      },
      "execution_count": 57,
      "outputs": [
        {
          "output_type": "execute_result",
          "data": {
            "text/plain": [
              "PerformanceRating\n",
              "3    1264\n",
              "4     230\n",
              "Name: PerformanceRating, dtype: int64"
            ]
          },
          "metadata": {},
          "execution_count": 57
        }
      ]
    },
    {
      "cell_type": "markdown",
      "source": [
        "#### **1.1.4 Variable RelationshipSatisfaction** "
      ],
      "metadata": {
        "id": "QIgNBQc4TfRI"
      }
    },
    {
      "cell_type": "code",
      "source": [
        "# Exploramos datos \n",
        "df['RelationshipSatisfaction']=df['RelationshipSatisfaction'].apply(int)\n",
        "df.groupby(['RelationshipSatisfaction'])['RelationshipSatisfaction'].count()"
      ],
      "metadata": {
        "colab": {
          "base_uri": "https://localhost:8080/"
        },
        "id": "MjLmB657TiCD",
        "outputId": "d6638d2a-c3a2-4957-d369-5ab07c35e706"
      },
      "execution_count": 58,
      "outputs": [
        {
          "output_type": "execute_result",
          "data": {
            "text/plain": [
              "RelationshipSatisfaction\n",
              "1    279\n",
              "2    310\n",
              "3    464\n",
              "4    441\n",
              "Name: RelationshipSatisfaction, dtype: int64"
            ]
          },
          "metadata": {},
          "execution_count": 58
        }
      ]
    },
    {
      "cell_type": "markdown",
      "source": [
        "#### **1.1.4 Variable StandardHours** "
      ],
      "metadata": {
        "id": "bTPpW5kXTuln"
      }
    },
    {
      "cell_type": "code",
      "source": [
        "df=df[df['StandardHours'].isna()==False]\n",
        "df['StandardHours']=df['StandardHours'].apply(int)\n",
        "df.groupby(['StandardHours'])['StandardHours'].count()"
      ],
      "metadata": {
        "colab": {
          "base_uri": "https://localhost:8080/"
        },
        "id": "WKjpGwpcTnvA",
        "outputId": "e1425017-c096-4469-966e-c804eb7f5256"
      },
      "execution_count": 59,
      "outputs": [
        {
          "output_type": "execute_result",
          "data": {
            "text/plain": [
              "StandardHours\n",
              "80    1487\n",
              "Name: StandardHours, dtype: int64"
            ]
          },
          "metadata": {},
          "execution_count": 59
        }
      ]
    },
    {
      "cell_type": "code",
      "source": [
        "del df['StandardHours']"
      ],
      "metadata": {
        "id": "wnwNbi8-b6Tl"
      },
      "execution_count": 60,
      "outputs": []
    },
    {
      "cell_type": "markdown",
      "source": [
        "#### **1.1.4 Variable StockOptionLevel** "
      ],
      "metadata": {
        "id": "FkuDESRBUHNf"
      }
    },
    {
      "cell_type": "code",
      "source": [
        "# Exploramos datos \n",
        "df['StockOptionLevel']=df['StockOptionLevel'].apply(int)\n",
        "df.groupby(['StockOptionLevel'])['StockOptionLevel'].count()"
      ],
      "metadata": {
        "colab": {
          "base_uri": "https://localhost:8080/"
        },
        "id": "0Be-ktrfT1at",
        "outputId": "8e7b9506-c7df-444a-fc83-20b94c868756"
      },
      "execution_count": 61,
      "outputs": [
        {
          "output_type": "execute_result",
          "data": {
            "text/plain": [
              "StockOptionLevel\n",
              "0    643\n",
              "1    598\n",
              "2    160\n",
              "3     86\n",
              "Name: StockOptionLevel, dtype: int64"
            ]
          },
          "metadata": {},
          "execution_count": 61
        }
      ]
    },
    {
      "cell_type": "markdown",
      "source": [
        "#### **1.1.4 Variable TotalWorkingYears** "
      ],
      "metadata": {
        "id": "L0-uV6OAUkc7"
      }
    },
    {
      "cell_type": "code",
      "source": [
        "df['TotalWorkingYears']=df['TotalWorkingYears'].apply(int)\n",
        "df.groupby(['TotalWorkingYears'])['TotalWorkingYears'].count()"
      ],
      "metadata": {
        "colab": {
          "base_uri": "https://localhost:8080/"
        },
        "id": "ANSlcceIUd1J",
        "outputId": "5274b948-0055-40a1-8391-8dbe500c45f9"
      },
      "execution_count": 62,
      "outputs": [
        {
          "output_type": "execute_result",
          "data": {
            "text/plain": [
              "TotalWorkingYears\n",
              "0      12\n",
              "1      85\n",
              "2      31\n",
              "3      44\n",
              "4      62\n",
              "5      91\n",
              "6     130\n",
              "7      84\n",
              "8     104\n",
              "9      99\n",
              "10    198\n",
              "11     36\n",
              "12     49\n",
              "13     35\n",
              "14     31\n",
              "15     40\n",
              "16     36\n",
              "17     34\n",
              "18     27\n",
              "19     23\n",
              "20     28\n",
              "21     34\n",
              "22     22\n",
              "23     22\n",
              "24     19\n",
              "25     14\n",
              "26     14\n",
              "27      7\n",
              "28     13\n",
              "29      9\n",
              "30      7\n",
              "31     10\n",
              "32      9\n",
              "33      7\n",
              "34      5\n",
              "35      3\n",
              "36      6\n",
              "37      4\n",
              "38      1\n",
              "40      2\n",
              "Name: TotalWorkingYears, dtype: int64"
            ]
          },
          "metadata": {},
          "execution_count": 62
        }
      ]
    },
    {
      "cell_type": "markdown",
      "source": [
        "Se identifican valores atíícospi"
      ],
      "metadata": {
        "id": "2IqeThxMj9iB"
      }
    },
    {
      "cell_type": "code",
      "source": [
        "df[df['TotalWorkingYears'] > (df['TotalWorkingYears'].mean() + df['TotalWorkingYears'].std() * 3)].shape"
      ],
      "metadata": {
        "colab": {
          "base_uri": "https://localhost:8080/"
        },
        "id": "nDRsHGJWi3hm",
        "outputId": "44fed0d1-8bf9-4200-b8b2-45c4cd66674f"
      },
      "execution_count": 63,
      "outputs": [
        {
          "output_type": "execute_result",
          "data": {
            "text/plain": [
              "(16, 32)"
            ]
          },
          "metadata": {},
          "execution_count": 63
        }
      ]
    },
    {
      "cell_type": "code",
      "source": [
        "Q1 = df['TotalWorkingYears'].quantile(0.25)\n",
        "Q3 = df['TotalWorkingYears'].quantile(0.75)\n",
        "IQR = Q3 - Q1\n",
        "df['TotalWorkingYears'][df['TotalWorkingYears'] > (df['TotalWorkingYears'].mean() + df['TotalWorkingYears'].std() * 3)]=Q3+(1.5*IQR)"
      ],
      "metadata": {
        "id": "4OdcSTxRmd3U"
      },
      "execution_count": 64,
      "outputs": []
    },
    {
      "cell_type": "markdown",
      "source": [
        "#### **1.1.4 Variable TrainingTimesLastYear** "
      ],
      "metadata": {
        "id": "QCQAjhh3Ut_m"
      }
    },
    {
      "cell_type": "code",
      "source": [
        "df['TrainingTimesLastYear']=df['TrainingTimesLastYear'].apply(int)\n",
        "df.groupby(['TrainingTimesLastYear'])['TrainingTimesLastYear'].count()"
      ],
      "metadata": {
        "colab": {
          "base_uri": "https://localhost:8080/"
        },
        "id": "H1sxAfU6U2Pu",
        "outputId": "8debbe79-e8dc-4dba-9b74-226b7c4929d8"
      },
      "execution_count": 65,
      "outputs": [
        {
          "output_type": "execute_result",
          "data": {
            "text/plain": [
              "TrainingTimesLastYear\n",
              "0     55\n",
              "1     71\n",
              "2    550\n",
              "3    500\n",
              "4    124\n",
              "5    121\n",
              "6     66\n",
              "Name: TrainingTimesLastYear, dtype: int64"
            ]
          },
          "metadata": {},
          "execution_count": 65
        }
      ]
    },
    {
      "cell_type": "markdown",
      "source": [
        "#### **1.1.4 Variable WorkLifeBalance** "
      ],
      "metadata": {
        "id": "EOdWskF7VS25"
      }
    },
    {
      "cell_type": "code",
      "source": [
        "#Explora datos\n",
        "df['WorkLifeBalance']=df['WorkLifeBalance'].apply(int)\n",
        "df.groupby(['WorkLifeBalance'])['WorkLifeBalance'].count()"
      ],
      "metadata": {
        "colab": {
          "base_uri": "https://localhost:8080/"
        },
        "id": "Bu5jlnOCUqXj",
        "outputId": "e34b124d-442b-4b1d-b72e-0f94fa0ee580"
      },
      "execution_count": 66,
      "outputs": [
        {
          "output_type": "execute_result",
          "data": {
            "text/plain": [
              "WorkLifeBalance\n",
              "1     81\n",
              "2    350\n",
              "3    903\n",
              "4    153\n",
              "Name: WorkLifeBalance, dtype: int64"
            ]
          },
          "metadata": {},
          "execution_count": 66
        }
      ]
    },
    {
      "cell_type": "markdown",
      "source": [
        "#### **1.1.4 Variable YearsAtCompany** "
      ],
      "metadata": {
        "id": "QDpUW8tRVjBn"
      }
    },
    {
      "cell_type": "code",
      "source": [
        "#Explora datos\n",
        "df['YearsAtCompany']=df['YearsAtCompany'].apply(int)\n",
        "np.where(df['YearsAtCompany']==100,df['Age'][df['YearsAtCompany']==100]-18,df['YearsAtCompany'])\n",
        "df.groupby(['YearsAtCompany'])['YearsAtCompany'].count()"
      ],
      "metadata": {
        "colab": {
          "base_uri": "https://localhost:8080/"
        },
        "id": "fXEeW6wcVYr-",
        "outputId": "0e81bb71-49c8-4fd3-c6a8-38f46017bace"
      },
      "execution_count": 67,
      "outputs": [
        {
          "output_type": "execute_result",
          "data": {
            "text/plain": [
              "YearsAtCompany\n",
              "0       45\n",
              "1      175\n",
              "2      130\n",
              "3      129\n",
              "4      113\n",
              "5      195\n",
              "6       76\n",
              "7       93\n",
              "8       80\n",
              "9       85\n",
              "10     117\n",
              "11      32\n",
              "12      15\n",
              "13      24\n",
              "14      19\n",
              "15      19\n",
              "16      12\n",
              "17       9\n",
              "18      13\n",
              "19      11\n",
              "20      27\n",
              "21      14\n",
              "22      15\n",
              "23       2\n",
              "24       6\n",
              "25       5\n",
              "26       4\n",
              "27       2\n",
              "29       2\n",
              "30       1\n",
              "31       3\n",
              "32       3\n",
              "33       5\n",
              "34       1\n",
              "36       2\n",
              "37       1\n",
              "40       1\n",
              "100      1\n",
              "Name: YearsAtCompany, dtype: int64"
            ]
          },
          "metadata": {},
          "execution_count": 67
        }
      ]
    },
    {
      "cell_type": "markdown",
      "source": [
        "#### **1.1.4 Variable YearsInCurrentRole** "
      ],
      "metadata": {
        "id": "3PCrbBoEWO4s"
      }
    },
    {
      "cell_type": "code",
      "source": [
        "#Explora Datos\n",
        "df['YearsInCurrentRole']=df['YearsInCurrentRole'].apply(int)\n",
        "df.groupby(['YearsInCurrentRole'])['YearsInCurrentRole'].count()"
      ],
      "metadata": {
        "colab": {
          "base_uri": "https://localhost:8080/"
        },
        "id": "_gd2hShHWSjl",
        "outputId": "d6e70b5e-492a-4414-93e5-98da3e2253bf"
      },
      "execution_count": 68,
      "outputs": [
        {
          "output_type": "execute_result",
          "data": {
            "text/plain": [
              "YearsInCurrentRole\n",
              "0     250\n",
              "1      58\n",
              "2     378\n",
              "3     135\n",
              "4     101\n",
              "5      37\n",
              "6      38\n",
              "7     226\n",
              "8      92\n",
              "9      65\n",
              "10     29\n",
              "11     21\n",
              "12     10\n",
              "13     15\n",
              "14     11\n",
              "15      8\n",
              "16      7\n",
              "17      4\n",
              "18      2\n",
              "Name: YearsInCurrentRole, dtype: int64"
            ]
          },
          "metadata": {},
          "execution_count": 68
        }
      ]
    },
    {
      "cell_type": "markdown",
      "source": [
        "#### **1.1.4 Variable YearsSinceLastPromotion** "
      ],
      "metadata": {
        "id": "aagYFTU0WgJx"
      }
    },
    {
      "cell_type": "code",
      "source": [
        "#Explora Datos\n",
        "df['YearsSinceLastPromotion']=df['YearsSinceLastPromotion'].apply(int)\n",
        "df.groupby(['YearsSinceLastPromotion'])['YearsSinceLastPromotion'].count()"
      ],
      "metadata": {
        "colab": {
          "base_uri": "https://localhost:8080/"
        },
        "id": "vLipdZsqWWfr",
        "outputId": "7ffdad0a-2c72-4842-879e-186317551fbd"
      },
      "execution_count": 69,
      "outputs": [
        {
          "output_type": "execute_result",
          "data": {
            "text/plain": [
              "YearsSinceLastPromotion\n",
              "0     587\n",
              "1     362\n",
              "2     162\n",
              "3      56\n",
              "4      61\n",
              "5      45\n",
              "6      32\n",
              "7      76\n",
              "8      17\n",
              "9      17\n",
              "10      6\n",
              "11     24\n",
              "12     10\n",
              "13     10\n",
              "14      9\n",
              "15     13\n",
              "Name: YearsSinceLastPromotion, dtype: int64"
            ]
          },
          "metadata": {},
          "execution_count": 69
        }
      ]
    },
    {
      "cell_type": "markdown",
      "source": [
        "#### **1.1.4 Variable YearsWithCurrManager** "
      ],
      "metadata": {
        "id": "fEaO9efdYCqW"
      }
    },
    {
      "cell_type": "code",
      "source": [
        "del df['NewEmployee']"
      ],
      "metadata": {
        "id": "XWJr_lxu1fiY"
      },
      "execution_count": 70,
      "outputs": []
    },
    {
      "cell_type": "code",
      "source": [
        "#Explora Datos\n",
        "df['YearsWithCurrManager']=df['YearsWithCurrManager'].apply(int)\n",
        "df.groupby(['YearsWithCurrManager'])['YearsWithCurrManager'].count()"
      ],
      "metadata": {
        "colab": {
          "base_uri": "https://localhost:8080/"
        },
        "id": "pE0txEokWmA5",
        "outputId": "ebe4ebf2-040a-491e-fd82-038b65916ab9"
      },
      "execution_count": 71,
      "outputs": [
        {
          "output_type": "execute_result",
          "data": {
            "text/plain": [
              "YearsWithCurrManager\n",
              "0     270\n",
              "1      77\n",
              "2     344\n",
              "3     147\n",
              "4      97\n",
              "5      31\n",
              "6      30\n",
              "7     220\n",
              "8     108\n",
              "9      64\n",
              "10     26\n",
              "11     21\n",
              "12     18\n",
              "13     14\n",
              "14      5\n",
              "15      5\n",
              "16      2\n",
              "17      8\n",
              "Name: YearsWithCurrManager, dtype: int64"
            ]
          },
          "metadata": {},
          "execution_count": 71
        }
      ]
    },
    {
      "cell_type": "code",
      "source": [
        "df.isna().sum()"
      ],
      "metadata": {
        "id": "7PvigvW6YX1K",
        "colab": {
          "base_uri": "https://localhost:8080/"
        },
        "outputId": "575f43ad-8505-4602-9eee-7cfc8ab8b800"
      },
      "execution_count": 72,
      "outputs": [
        {
          "output_type": "execute_result",
          "data": {
            "text/plain": [
              "JobSatisfaction             0\n",
              "Age                         0\n",
              "Attrition                   0\n",
              "BusinessTravel              0\n",
              "DailyRate                   0\n",
              "Department                  0\n",
              "DistanceFromHome            0\n",
              "Education                   0\n",
              "EducationField              0\n",
              "EnvironmentSatisfaction     0\n",
              "Gender                      0\n",
              "HourlyRate                  0\n",
              "JobInvolvement              0\n",
              "JobLevel                    0\n",
              "JobRole                     0\n",
              "MaritalStatus               0\n",
              "MonthlyIncome               0\n",
              "MonthlyRate                 0\n",
              "NumCompaniesWorked          0\n",
              "OverTime                    0\n",
              "PercentSalaryHike           0\n",
              "PerformanceRating           0\n",
              "RelationshipSatisfaction    0\n",
              "StockOptionLevel            0\n",
              "TotalWorkingYears           0\n",
              "TrainingTimesLastYear       0\n",
              "WorkLifeBalance             0\n",
              "YearsAtCompany              0\n",
              "YearsInCurrentRole          0\n",
              "YearsSinceLastPromotion     0\n",
              "YearsWithCurrManager        0\n",
              "dtype: int64"
            ]
          },
          "metadata": {},
          "execution_count": 72
        }
      ]
    },
    {
      "cell_type": "markdown",
      "source": [
        "### **2. Analisis Datos**"
      ],
      "metadata": {
        "id": "fS7wM141YrHW"
      }
    },
    {
      "cell_type": "code",
      "source": [
        "df.profile_report()"
      ],
      "metadata": {
        "colab": {
          "base_uri": "https://localhost:8080/",
          "height": 301
        },
        "id": "Z4mNYkQQYy_z",
        "outputId": "50d104d7-b598-47ff-b356-3fcfa77321ab"
      },
      "execution_count": 73,
      "outputs": [
        {
          "output_type": "error",
          "ename": "AttributeError",
          "evalue": "ignored",
          "traceback": [
            "\u001b[0;31m---------------------------------------------------------------------------\u001b[0m",
            "\u001b[0;31mAttributeError\u001b[0m                            Traceback (most recent call last)",
            "\u001b[0;32m<ipython-input-73-f9a7584e785c>\u001b[0m in \u001b[0;36m<module>\u001b[0;34m\u001b[0m\n\u001b[0;32m----> 1\u001b[0;31m \u001b[0mdf\u001b[0m\u001b[0;34m.\u001b[0m\u001b[0mprofile_report\u001b[0m\u001b[0;34m(\u001b[0m\u001b[0;34m)\u001b[0m\u001b[0;34m\u001b[0m\u001b[0;34m\u001b[0m\u001b[0m\n\u001b[0m",
            "\u001b[0;32m/usr/local/lib/python3.7/dist-packages/pandas/core/generic.py\u001b[0m in \u001b[0;36m__getattr__\u001b[0;34m(self, name)\u001b[0m\n\u001b[1;32m   5485\u001b[0m         ):\n\u001b[1;32m   5486\u001b[0m             \u001b[0;32mreturn\u001b[0m \u001b[0mself\u001b[0m\u001b[0;34m[\u001b[0m\u001b[0mname\u001b[0m\u001b[0;34m]\u001b[0m\u001b[0;34m\u001b[0m\u001b[0;34m\u001b[0m\u001b[0m\n\u001b[0;32m-> 5487\u001b[0;31m         \u001b[0;32mreturn\u001b[0m \u001b[0mobject\u001b[0m\u001b[0;34m.\u001b[0m\u001b[0m__getattribute__\u001b[0m\u001b[0;34m(\u001b[0m\u001b[0mself\u001b[0m\u001b[0;34m,\u001b[0m \u001b[0mname\u001b[0m\u001b[0;34m)\u001b[0m\u001b[0;34m\u001b[0m\u001b[0;34m\u001b[0m\u001b[0m\n\u001b[0m\u001b[1;32m   5488\u001b[0m \u001b[0;34m\u001b[0m\u001b[0m\n\u001b[1;32m   5489\u001b[0m     \u001b[0;32mdef\u001b[0m \u001b[0m__setattr__\u001b[0m\u001b[0;34m(\u001b[0m\u001b[0mself\u001b[0m\u001b[0;34m,\u001b[0m \u001b[0mname\u001b[0m\u001b[0;34m:\u001b[0m \u001b[0mstr\u001b[0m\u001b[0;34m,\u001b[0m \u001b[0mvalue\u001b[0m\u001b[0;34m)\u001b[0m \u001b[0;34m->\u001b[0m \u001b[0;32mNone\u001b[0m\u001b[0;34m:\u001b[0m\u001b[0;34m\u001b[0m\u001b[0;34m\u001b[0m\u001b[0m\n",
            "\u001b[0;31mAttributeError\u001b[0m: 'DataFrame' object has no attribute 'profile_report'"
          ]
        }
      ]
    },
    {
      "cell_type": "code",
      "source": [
        "sns.barplot(x=df['Age'],y=df['JobSatisfaction'])\n",
        "plt.xticks(rotation='vertical')\n",
        "plt.show()"
      ],
      "metadata": {
        "id": "Z5azJL6eeZgM"
      },
      "execution_count": 78,
      "outputs": []
    },
    {
      "cell_type": "code",
      "source": [
        "sns.barplot(x=df['Attrition'],y=df['JobSatisfaction'])\n",
        "plt.xticks(rotation='vertical')\n",
        "plt.show()"
      ],
      "metadata": {
        "id": "N12s5_SojpoD"
      },
      "execution_count": 79,
      "outputs": []
    },
    {
      "cell_type": "code",
      "source": [
        "sns.barplot(x=df['BusinessTravel'],y=df['JobSatisfaction'])\n",
        "plt.xticks(rotation='vertical')\n",
        "plt.show()"
      ],
      "metadata": {
        "id": "nDAb8oYsj1gg"
      },
      "execution_count": 80,
      "outputs": []
    },
    {
      "cell_type": "code",
      "source": [
        "sns.barplot(x=df['Department'],y=df['JobSatisfaction'])\n",
        "plt.xticks(rotation='vertical')\n",
        "plt.show()"
      ],
      "metadata": {
        "id": "ESmuV4Kwj7hZ"
      },
      "execution_count": null,
      "outputs": []
    },
    {
      "cell_type": "code",
      "source": [
        "sns.barplot(x=df['Education'],y=df['JobSatisfaction'])\n",
        "plt.xticks(rotation='vertical')\n",
        "plt.show()"
      ],
      "metadata": {
        "id": "I6ZE2wbOkO9g"
      },
      "execution_count": null,
      "outputs": []
    },
    {
      "cell_type": "code",
      "source": [
        "sns.barplot(x=df['EducationField'],y=df['JobSatisfaction'])\n",
        "plt.xticks(rotation='vertical')\n",
        "plt.show()"
      ],
      "metadata": {
        "id": "d_Bj6Vh6kZ0a"
      },
      "execution_count": null,
      "outputs": []
    },
    {
      "cell_type": "code",
      "source": [
        "sns.barplot(x=df['EnvironmentSatisfaction'],y=df['JobSatisfaction'])\n",
        "plt.xticks(rotation='vertical')\n",
        "plt.show()"
      ],
      "metadata": {
        "id": "tSx3KPPXkc3D"
      },
      "execution_count": null,
      "outputs": []
    },
    {
      "cell_type": "code",
      "source": [
        "sns.barplot(x=df['Gender'],y=df['JobSatisfaction'])\n",
        "plt.xticks(rotation='vertical')\n",
        "plt.show()"
      ],
      "metadata": {
        "id": "e9HghKaeklvU"
      },
      "execution_count": null,
      "outputs": []
    },
    {
      "cell_type": "code",
      "source": [
        "sns.barplot(x=df['JobInvolvement'],y=df['JobSatisfaction'])\n",
        "plt.xticks(rotation='vertical')\n",
        "plt.show()"
      ],
      "metadata": {
        "id": "sbmC4P_glIJa"
      },
      "execution_count": null,
      "outputs": []
    },
    {
      "cell_type": "code",
      "source": [
        "sns.barplot(x=df['JobRole'],y=df['JobSatisfaction'])\n",
        "plt.xticks(rotation='vertical')\n",
        "plt.show()"
      ],
      "metadata": {
        "id": "Nd0hD-MUlWmb"
      },
      "execution_count": null,
      "outputs": []
    },
    {
      "cell_type": "code",
      "source": [
        "sns.barplot(x=df['MaritalStatus'],y=df['JobSatisfaction'])\n",
        "plt.xticks(rotation='vertical')\n",
        "plt.show()"
      ],
      "metadata": {
        "id": "B2m7bMV1mNlN"
      },
      "execution_count": null,
      "outputs": []
    },
    {
      "cell_type": "code",
      "source": [
        "sns.barplot(x=df['NumCompaniesWorked'],y=df['JobSatisfaction'])\n",
        "plt.xticks(rotation='vertical')\n",
        "plt.show()"
      ],
      "metadata": {
        "id": "qIS4K887mVbD"
      },
      "execution_count": null,
      "outputs": []
    },
    {
      "cell_type": "code",
      "source": [
        "sns.barplot(x=df['OverTime'],y=df['JobSatisfaction'])\n",
        "plt.xticks(rotation='vertical')\n",
        "plt.show()"
      ],
      "metadata": {
        "id": "ioDU035rmj8R"
      },
      "execution_count": null,
      "outputs": []
    },
    {
      "cell_type": "code",
      "source": [
        "sns.barplot(x=df['PercentSalaryHike'],y=df['JobSatisfaction'])\n",
        "plt.xticks(rotation='vertical')\n",
        "plt.show()"
      ],
      "metadata": {
        "id": "0fUHjBywmu5C"
      },
      "execution_count": null,
      "outputs": []
    },
    {
      "cell_type": "code",
      "source": [
        "sns.barplot(x=df['PerformanceRating'],y=df['JobSatisfaction'])\n",
        "plt.xticks(rotation='vertical')\n",
        "plt.show()"
      ],
      "metadata": {
        "id": "TVhEUtxnmzjS"
      },
      "execution_count": null,
      "outputs": []
    },
    {
      "cell_type": "code",
      "source": [
        "sns.barplot(x=df['RelationshipSatisfaction'],y=df['JobSatisfaction'])\n",
        "plt.xticks(rotation='vertical')\n",
        "plt.show()"
      ],
      "metadata": {
        "id": "mK1sZJAfm8ro"
      },
      "execution_count": null,
      "outputs": []
    },
    {
      "cell_type": "code",
      "source": [
        "sns.barplot(x=df['StockOptionLevel'],y=df['JobSatisfaction'])\n",
        "plt.xticks(rotation='vertical')\n",
        "plt.show()"
      ],
      "metadata": {
        "id": "fJPNJ03XnAfR"
      },
      "execution_count": null,
      "outputs": []
    },
    {
      "cell_type": "code",
      "source": [
        "sns.barplot(x=df['TotalWorkingYears'],y=df['JobSatisfaction'])\n",
        "plt.xticks(rotation='vertical')\n",
        "plt.show()"
      ],
      "metadata": {
        "id": "bi0tCW2RnGW0"
      },
      "execution_count": null,
      "outputs": []
    },
    {
      "cell_type": "code",
      "source": [
        "sns.barplot(x=df['WorkLifeBalance'],y=df['JobSatisfaction'])\n",
        "plt.xticks(rotation='vertical')\n",
        "plt.show()"
      ],
      "metadata": {
        "id": "dNpD69xpnKHg"
      },
      "execution_count": null,
      "outputs": []
    },
    {
      "cell_type": "code",
      "source": [
        "sns.barplot(x=df['YearsAtCompany'],y=df['JobSatisfaction'])\n",
        "plt.xticks(rotation='vertical')\n",
        "plt.show()"
      ],
      "metadata": {
        "id": "bRIA6qmjnPyY"
      },
      "execution_count": null,
      "outputs": []
    },
    {
      "cell_type": "code",
      "source": [
        "sns.barplot(x=df['YearsInCurrentRole'],y=df['JobSatisfaction'])\n",
        "plt.xticks(rotation='vertical')\n",
        "plt.show()"
      ],
      "metadata": {
        "id": "Jffci6GynUlk"
      },
      "execution_count": null,
      "outputs": []
    },
    {
      "cell_type": "code",
      "source": [
        "sns.barplot(x=df['YearsSinceLastPromotion'],y=df['JobSatisfaction'])\n",
        "plt.xticks(rotation='vertical')\n",
        "plt.show()"
      ],
      "metadata": {
        "id": "JUy0QsnfnbYm"
      },
      "execution_count": null,
      "outputs": []
    },
    {
      "cell_type": "code",
      "source": [
        "sns.barplot(x=df['YearsWithCurrManager'],y=df['JobSatisfaction'])\n",
        "plt.xticks(rotation='vertical')\n",
        "plt.show()"
      ],
      "metadata": {
        "id": "Pdq32bzunkNg"
      },
      "execution_count": null,
      "outputs": []
    },
    {
      "cell_type": "markdown",
      "source": [
        "## 2.Analisis bivariado"
      ],
      "metadata": {
        "id": "W1irLxB71FnM"
      }
    },
    {
      "cell_type": "markdown",
      "source": [
        "En primer lugar se analiza la correlación entre las variables usadas en el modelo"
      ],
      "metadata": {
        "id": "Ou6vgSUk1KRA"
      }
    },
    {
      "cell_type": "code",
      "source": [
        "df.columns"
      ],
      "metadata": {
        "id": "m6eYQ12d2hDp"
      },
      "execution_count": null,
      "outputs": []
    },
    {
      "cell_type": "code",
      "source": [
        "df.info()"
      ],
      "metadata": {
        "id": "A33WCe8M3cwu"
      },
      "execution_count": null,
      "outputs": []
    },
    {
      "cell_type": "code",
      "source": [
        "sns.heatmap(df[['JobSatisfaction','Age','DistanceFromHome', 'Education','EnvironmentSatisfaction', 'HourlyRate','JobInvolvement','JobLevel','MonthlyIncome', 'MonthlyRate','NumCompaniesWorked', 'PercentSalaryHike','PerformanceRating', 'RelationshipSatisfaction', 'StockOptionLevel','TotalWorkingYears', 'TrainingTimesLastYear', 'WorkLifeBalance','YearsAtCompany', 'YearsInCurrentRole', 'YearsSinceLastPromotion','YearsWithCurrManager']].corr())"
      ],
      "metadata": {
        "colab": {
          "base_uri": "https://localhost:8080/"
        },
        "id": "IKMqR3MW1QsZ",
        "outputId": "debc3ca6-fffa-41af-ccf1-fd2fab9c37a4"
      },
      "execution_count": 81,
      "outputs": [
        {
          "output_type": "execute_result",
          "data": {
            "text/plain": [
              "<matplotlib.axes._subplots.AxesSubplot at 0x7f087d517c10>"
            ]
          },
          "metadata": {},
          "execution_count": 81
        }
      ]
    },
    {
      "cell_type": "markdown",
      "source": [
        "Se identifca una alta correlación entre algunas variables como por ejemplo el salario y mensual y el Nivel laboral, adiconalmente las variables relacionadas con los años como los años de antiguedad, años de la última promoción, por lo cual contempla alguna tecnica de reducción de dimensionalidad."
      ],
      "metadata": {
        "id": "RtjgPFZw6_Wz"
      }
    },
    {
      "cell_type": "markdown",
      "source": [
        "### **3. Entrenamiento Modelo**"
      ],
      "metadata": {
        "id": "5e_GNQyCYuF9"
      }
    },
    {
      "cell_type": "markdown",
      "source": [
        "### **3.1.Codificación y Normalización de datos**"
      ],
      "metadata": {
        "id": "1XUZSftyY3Xk"
      }
    },
    {
      "cell_type": "code",
      "source": [
        "df.head()"
      ],
      "metadata": {
        "id": "h2b-YRqEY3H5",
        "colab": {
          "base_uri": "https://localhost:8080/",
          "height": 369
        },
        "outputId": "46e77653-64db-40a9-ad58-cd1d7f215acb"
      },
      "execution_count": 82,
      "outputs": [
        {
          "output_type": "execute_result",
          "data": {
            "text/plain": [
              "   JobSatisfaction   Age Attrition     BusinessTravel DailyRate  \\\n",
              "0                4  41.0       Yes      Travel_Rarely      1102   \n",
              "1                2  49.0        No  Travel_Frequently       279   \n",
              "2                3  37.0       Yes      Travel_Rarely      1373   \n",
              "3                3  33.0        No  Travel_Frequently      1392   \n",
              "4                2  24.0        No      Travel_Rarely       591   \n",
              "\n",
              "               Department  DistanceFromHome  Education EducationField  \\\n",
              "0                   Sales                 1          2  Life Sciences   \n",
              "1  Research & Development                 8          1  Life Sciences   \n",
              "2  Research & Development                 2          2          Other   \n",
              "3  Research & Development                 3          4  Life Sciences   \n",
              "4  Research & Development                 2          1        Medical   \n",
              "\n",
              "   EnvironmentSatisfaction  ... PerformanceRating  RelationshipSatisfaction  \\\n",
              "0                        2  ...                 3                         1   \n",
              "1                        3  ...                 4                         4   \n",
              "2                        4  ...                 3                         2   \n",
              "3                        4  ...                 3                         3   \n",
              "4                        1  ...                 3                         4   \n",
              "\n",
              "   StockOptionLevel  TotalWorkingYears TrainingTimesLastYear WorkLifeBalance  \\\n",
              "0                 0                8.0                     0               1   \n",
              "1                 1               10.0                     3               3   \n",
              "2                 0                7.0                     3               3   \n",
              "3                 0                8.0                     3               3   \n",
              "4                 1                6.0                     3               3   \n",
              "\n",
              "   YearsAtCompany  YearsInCurrentRole  YearsSinceLastPromotion  \\\n",
              "0               6                   4                        0   \n",
              "1              10                   7                        1   \n",
              "2               0                   0                        0   \n",
              "3               8                   7                        3   \n",
              "4               2                   2                        2   \n",
              "\n",
              "  YearsWithCurrManager  \n",
              "0                    5  \n",
              "1                    7  \n",
              "2                    0  \n",
              "3                    0  \n",
              "4                    2  \n",
              "\n",
              "[5 rows x 31 columns]"
            ],
            "text/html": [
              "\n",
              "  <div id=\"df-8cc7aa45-a931-4277-88dc-063215950b2c\">\n",
              "    <div class=\"colab-df-container\">\n",
              "      <div>\n",
              "<style scoped>\n",
              "    .dataframe tbody tr th:only-of-type {\n",
              "        vertical-align: middle;\n",
              "    }\n",
              "\n",
              "    .dataframe tbody tr th {\n",
              "        vertical-align: top;\n",
              "    }\n",
              "\n",
              "    .dataframe thead th {\n",
              "        text-align: right;\n",
              "    }\n",
              "</style>\n",
              "<table border=\"1\" class=\"dataframe\">\n",
              "  <thead>\n",
              "    <tr style=\"text-align: right;\">\n",
              "      <th></th>\n",
              "      <th>JobSatisfaction</th>\n",
              "      <th>Age</th>\n",
              "      <th>Attrition</th>\n",
              "      <th>BusinessTravel</th>\n",
              "      <th>DailyRate</th>\n",
              "      <th>Department</th>\n",
              "      <th>DistanceFromHome</th>\n",
              "      <th>Education</th>\n",
              "      <th>EducationField</th>\n",
              "      <th>EnvironmentSatisfaction</th>\n",
              "      <th>...</th>\n",
              "      <th>PerformanceRating</th>\n",
              "      <th>RelationshipSatisfaction</th>\n",
              "      <th>StockOptionLevel</th>\n",
              "      <th>TotalWorkingYears</th>\n",
              "      <th>TrainingTimesLastYear</th>\n",
              "      <th>WorkLifeBalance</th>\n",
              "      <th>YearsAtCompany</th>\n",
              "      <th>YearsInCurrentRole</th>\n",
              "      <th>YearsSinceLastPromotion</th>\n",
              "      <th>YearsWithCurrManager</th>\n",
              "    </tr>\n",
              "  </thead>\n",
              "  <tbody>\n",
              "    <tr>\n",
              "      <th>0</th>\n",
              "      <td>4</td>\n",
              "      <td>41.0</td>\n",
              "      <td>Yes</td>\n",
              "      <td>Travel_Rarely</td>\n",
              "      <td>1102</td>\n",
              "      <td>Sales</td>\n",
              "      <td>1</td>\n",
              "      <td>2</td>\n",
              "      <td>Life Sciences</td>\n",
              "      <td>2</td>\n",
              "      <td>...</td>\n",
              "      <td>3</td>\n",
              "      <td>1</td>\n",
              "      <td>0</td>\n",
              "      <td>8.0</td>\n",
              "      <td>0</td>\n",
              "      <td>1</td>\n",
              "      <td>6</td>\n",
              "      <td>4</td>\n",
              "      <td>0</td>\n",
              "      <td>5</td>\n",
              "    </tr>\n",
              "    <tr>\n",
              "      <th>1</th>\n",
              "      <td>2</td>\n",
              "      <td>49.0</td>\n",
              "      <td>No</td>\n",
              "      <td>Travel_Frequently</td>\n",
              "      <td>279</td>\n",
              "      <td>Research &amp; Development</td>\n",
              "      <td>8</td>\n",
              "      <td>1</td>\n",
              "      <td>Life Sciences</td>\n",
              "      <td>3</td>\n",
              "      <td>...</td>\n",
              "      <td>4</td>\n",
              "      <td>4</td>\n",
              "      <td>1</td>\n",
              "      <td>10.0</td>\n",
              "      <td>3</td>\n",
              "      <td>3</td>\n",
              "      <td>10</td>\n",
              "      <td>7</td>\n",
              "      <td>1</td>\n",
              "      <td>7</td>\n",
              "    </tr>\n",
              "    <tr>\n",
              "      <th>2</th>\n",
              "      <td>3</td>\n",
              "      <td>37.0</td>\n",
              "      <td>Yes</td>\n",
              "      <td>Travel_Rarely</td>\n",
              "      <td>1373</td>\n",
              "      <td>Research &amp; Development</td>\n",
              "      <td>2</td>\n",
              "      <td>2</td>\n",
              "      <td>Other</td>\n",
              "      <td>4</td>\n",
              "      <td>...</td>\n",
              "      <td>3</td>\n",
              "      <td>2</td>\n",
              "      <td>0</td>\n",
              "      <td>7.0</td>\n",
              "      <td>3</td>\n",
              "      <td>3</td>\n",
              "      <td>0</td>\n",
              "      <td>0</td>\n",
              "      <td>0</td>\n",
              "      <td>0</td>\n",
              "    </tr>\n",
              "    <tr>\n",
              "      <th>3</th>\n",
              "      <td>3</td>\n",
              "      <td>33.0</td>\n",
              "      <td>No</td>\n",
              "      <td>Travel_Frequently</td>\n",
              "      <td>1392</td>\n",
              "      <td>Research &amp; Development</td>\n",
              "      <td>3</td>\n",
              "      <td>4</td>\n",
              "      <td>Life Sciences</td>\n",
              "      <td>4</td>\n",
              "      <td>...</td>\n",
              "      <td>3</td>\n",
              "      <td>3</td>\n",
              "      <td>0</td>\n",
              "      <td>8.0</td>\n",
              "      <td>3</td>\n",
              "      <td>3</td>\n",
              "      <td>8</td>\n",
              "      <td>7</td>\n",
              "      <td>3</td>\n",
              "      <td>0</td>\n",
              "    </tr>\n",
              "    <tr>\n",
              "      <th>4</th>\n",
              "      <td>2</td>\n",
              "      <td>24.0</td>\n",
              "      <td>No</td>\n",
              "      <td>Travel_Rarely</td>\n",
              "      <td>591</td>\n",
              "      <td>Research &amp; Development</td>\n",
              "      <td>2</td>\n",
              "      <td>1</td>\n",
              "      <td>Medical</td>\n",
              "      <td>1</td>\n",
              "      <td>...</td>\n",
              "      <td>3</td>\n",
              "      <td>4</td>\n",
              "      <td>1</td>\n",
              "      <td>6.0</td>\n",
              "      <td>3</td>\n",
              "      <td>3</td>\n",
              "      <td>2</td>\n",
              "      <td>2</td>\n",
              "      <td>2</td>\n",
              "      <td>2</td>\n",
              "    </tr>\n",
              "  </tbody>\n",
              "</table>\n",
              "<p>5 rows × 31 columns</p>\n",
              "</div>\n",
              "      <button class=\"colab-df-convert\" onclick=\"convertToInteractive('df-8cc7aa45-a931-4277-88dc-063215950b2c')\"\n",
              "              title=\"Convert this dataframe to an interactive table.\"\n",
              "              style=\"display:none;\">\n",
              "        \n",
              "  <svg xmlns=\"http://www.w3.org/2000/svg\" height=\"24px\"viewBox=\"0 0 24 24\"\n",
              "       width=\"24px\">\n",
              "    <path d=\"M0 0h24v24H0V0z\" fill=\"none\"/>\n",
              "    <path d=\"M18.56 5.44l.94 2.06.94-2.06 2.06-.94-2.06-.94-.94-2.06-.94 2.06-2.06.94zm-11 1L8.5 8.5l.94-2.06 2.06-.94-2.06-.94L8.5 2.5l-.94 2.06-2.06.94zm10 10l.94 2.06.94-2.06 2.06-.94-2.06-.94-.94-2.06-.94 2.06-2.06.94z\"/><path d=\"M17.41 7.96l-1.37-1.37c-.4-.4-.92-.59-1.43-.59-.52 0-1.04.2-1.43.59L10.3 9.45l-7.72 7.72c-.78.78-.78 2.05 0 2.83L4 21.41c.39.39.9.59 1.41.59.51 0 1.02-.2 1.41-.59l7.78-7.78 2.81-2.81c.8-.78.8-2.07 0-2.86zM5.41 20L4 18.59l7.72-7.72 1.47 1.35L5.41 20z\"/>\n",
              "  </svg>\n",
              "      </button>\n",
              "      \n",
              "  <style>\n",
              "    .colab-df-container {\n",
              "      display:flex;\n",
              "      flex-wrap:wrap;\n",
              "      gap: 12px;\n",
              "    }\n",
              "\n",
              "    .colab-df-convert {\n",
              "      background-color: #E8F0FE;\n",
              "      border: none;\n",
              "      border-radius: 50%;\n",
              "      cursor: pointer;\n",
              "      display: none;\n",
              "      fill: #1967D2;\n",
              "      height: 32px;\n",
              "      padding: 0 0 0 0;\n",
              "      width: 32px;\n",
              "    }\n",
              "\n",
              "    .colab-df-convert:hover {\n",
              "      background-color: #E2EBFA;\n",
              "      box-shadow: 0px 1px 2px rgba(60, 64, 67, 0.3), 0px 1px 3px 1px rgba(60, 64, 67, 0.15);\n",
              "      fill: #174EA6;\n",
              "    }\n",
              "\n",
              "    [theme=dark] .colab-df-convert {\n",
              "      background-color: #3B4455;\n",
              "      fill: #D2E3FC;\n",
              "    }\n",
              "\n",
              "    [theme=dark] .colab-df-convert:hover {\n",
              "      background-color: #434B5C;\n",
              "      box-shadow: 0px 1px 3px 1px rgba(0, 0, 0, 0.15);\n",
              "      filter: drop-shadow(0px 1px 2px rgba(0, 0, 0, 0.3));\n",
              "      fill: #FFFFFF;\n",
              "    }\n",
              "  </style>\n",
              "\n",
              "      <script>\n",
              "        const buttonEl =\n",
              "          document.querySelector('#df-8cc7aa45-a931-4277-88dc-063215950b2c button.colab-df-convert');\n",
              "        buttonEl.style.display =\n",
              "          google.colab.kernel.accessAllowed ? 'block' : 'none';\n",
              "\n",
              "        async function convertToInteractive(key) {\n",
              "          const element = document.querySelector('#df-8cc7aa45-a931-4277-88dc-063215950b2c');\n",
              "          const dataTable =\n",
              "            await google.colab.kernel.invokeFunction('convertToInteractive',\n",
              "                                                     [key], {});\n",
              "          if (!dataTable) return;\n",
              "\n",
              "          const docLinkHtml = 'Like what you see? Visit the ' +\n",
              "            '<a target=\"_blank\" href=https://colab.research.google.com/notebooks/data_table.ipynb>data table notebook</a>'\n",
              "            + ' to learn more about interactive tables.';\n",
              "          element.innerHTML = '';\n",
              "          dataTable['output_type'] = 'display_data';\n",
              "          await google.colab.output.renderOutput(dataTable, element);\n",
              "          const docLink = document.createElement('div');\n",
              "          docLink.innerHTML = docLinkHtml;\n",
              "          element.appendChild(docLink);\n",
              "        }\n",
              "      </script>\n",
              "    </div>\n",
              "  </div>\n",
              "  "
            ]
          },
          "metadata": {},
          "execution_count": 82
        }
      ]
    },
    {
      "cell_type": "code",
      "source": [
        "df.to_csv(\"/content/drive/MyDrive/Taller3_CDA/Data_Taller_3_modelo.csv\",sep=\";\",index=False)"
      ],
      "metadata": {
        "id": "seFEUhAWP83N"
      },
      "execution_count": 83,
      "outputs": []
    }
  ]
}