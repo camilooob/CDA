{
  "cells": [
    {
      "cell_type": "markdown",
      "metadata": {
        "id": "view-in-github",
        "colab_type": "text"
      },
      "source": [
        "<a href=\"https://colab.research.google.com/github/lmencisoe/CDA/blob/main/Bono/Bono_Lm_enciso.ipynb\" target=\"_parent\"><img src=\"https://colab.research.google.com/assets/colab-badge.svg\" alt=\"Open In Colab\"/></a>"
      ]
    },
    {
      "cell_type": "markdown",
      "metadata": {
        "id": "gx1kSOWhnXMq"
      },
      "source": [
        "<a href=\"https://colab.research.google.com/github/datascience-uniandes/data-quality-tutorial/blob/master/data-quality-tutorial.ipynb\" target=\"_parent\"><img src=\"https://colab.research.google.com/assets/colab-badge.svg\" alt=\"Open In Colab\"/></a>"
      ]
    },
    {
      "cell_type": "markdown",
      "metadata": {
        "id": "CzauG-dDnXMv"
      },
      "source": [
        "# Data Quality tutorial\n",
        "\n",
        "MINE-4101: Applied Data Science  \n",
        "Univerisdad de los Andes  \n",
        "  \n",
        "Dataset: Homicides Colombia  \n",
        "Source: [datos.gov.co](datos.gov.co)\n",
        "  \n",
        "Last update: September, 2022"
      ]
    },
    {
      "cell_type": "code",
      "execution_count": null,
      "metadata": {
        "id": "_qE53NNTnXMv"
      },
      "outputs": [],
      "source": [
        "!pip install pylev"
      ]
    },
    {
      "cell_type": "code",
      "execution_count": null,
      "metadata": {
        "id": "Hw1x6Cr1nXMx"
      },
      "outputs": [],
      "source": [
        "# Importing required libraries\n",
        "\n",
        "import re\n",
        "from random import randint\n",
        "from datetime import datetime\n",
        "\n",
        "import numpy as np\n",
        "import pandas as pd\n",
        "\n",
        "import pylev"
      ]
    },
    {
      "cell_type": "code",
      "execution_count": null,
      "metadata": {
        "id": "mMMb518SnXMx"
      },
      "outputs": [],
      "source": [
        "# Parameter for showing all columns when printing a dataframe\n",
        "pd.set_option('display.max_columns', None)"
      ]
    },
    {
      "cell_type": "code",
      "execution_count": null,
      "metadata": {
        "id": "k8O7abpKnXMy"
      },
      "outputs": [],
      "source": [
        "# Loading data\n",
        "homicides_df = pd.read_csv(\"./data/homicides.csv\")"
      ]
    },
    {
      "cell_type": "code",
      "execution_count": null,
      "metadata": {
        "id": "Xxi-v1lJnXMy"
      },
      "outputs": [],
      "source": [
        "# Printing the dataset dimensions\n",
        "homicides_df.shape"
      ]
    },
    {
      "cell_type": "code",
      "execution_count": null,
      "metadata": {
        "id": "B5ovPOD_nXMz"
      },
      "outputs": [],
      "source": [
        "# Printing column data types\n",
        "homicides_df.dtypes"
      ]
    },
    {
      "cell_type": "code",
      "execution_count": null,
      "metadata": {
        "id": "dLclVEpTnXM1"
      },
      "outputs": [],
      "source": [
        "homicides_df.head()"
      ]
    },
    {
      "cell_type": "code",
      "execution_count": null,
      "metadata": {
        "id": "mBCMD7fhnXM2"
      },
      "outputs": [],
      "source": [
        "# Creating a lambda expression for datetime parsing\n",
        "dateparse = lambda x: datetime.strptime(x, \"%m/%d/%Y %H:%M:%S %p\")"
      ]
    },
    {
      "cell_type": "code",
      "execution_count": null,
      "metadata": {
        "id": "vOtATA7NnXM3"
      },
      "outputs": [],
      "source": [
        "# Applying the validation to all values in column\n",
        "homicides_df[\"FECHA\"].apply(dateparse)\n",
        "\n",
        "# IT IS EXPECTED TO HAVE AN ERROR INTENTIONALLY"
      ]
    },
    {
      "cell_type": "code",
      "execution_count": null,
      "metadata": {
        "id": "__5LF3p2nXM3"
      },
      "outputs": [],
      "source": [
        "# Creating a function for validating which value is causing the previous error\n",
        "def error_in_format(x):\n",
        "    try:\n",
        "        datetime.strptime(x, \"%m/%d/%Y %H:%M:%S %p\")\n",
        "        return False\n",
        "    except:\n",
        "        return True"
      ]
    },
    {
      "cell_type": "code",
      "execution_count": null,
      "metadata": {
        "id": "Xrgye91mnXM4"
      },
      "outputs": [],
      "source": [
        "# Using the function for validation\n",
        "homicides_df.loc[homicides_df[\"FECHA\"].apply(error_in_format)]\n",
        "\n",
        "# THE LAST ROW IS CAUSING THE ERROR"
      ]
    },
    {
      "cell_type": "code",
      "execution_count": null,
      "metadata": {
        "id": "WjuzQsEQnXM4"
      },
      "outputs": [],
      "source": [
        "# Deleting a row by its index\n",
        "homicides_df.drop(12399, inplace = True)"
      ]
    },
    {
      "cell_type": "code",
      "execution_count": null,
      "metadata": {
        "id": "K_bJckGonXM5"
      },
      "outputs": [],
      "source": [
        "# Trying to parse the datetime string again\n",
        "homicides_df[\"FECHA\"] = homicides_df[\"FECHA\"].apply(dateparse)"
      ]
    },
    {
      "cell_type": "code",
      "execution_count": null,
      "metadata": {
        "id": "9KUSHYCGnXM5"
      },
      "outputs": [],
      "source": [
        "# Counting homicides by hour\n",
        "homicides_df[\"FECHA\"].dt.hour.value_counts()\n",
        "\n",
        "# All datetime hour parts are the same"
      ]
    },
    {
      "cell_type": "code",
      "execution_count": null,
      "metadata": {
        "id": "y9Xxb8OLnXM5"
      },
      "outputs": [],
      "source": [
        "# The homicide hour is available in a different column!\n",
        "# Merging both columns\n",
        "homicides_df[\"FECHA\"] = homicides_df[\"FECHA\"].astype(str).apply(lambda x: x[:11]) + homicides_df[\"HORA\"]"
      ]
    },
    {
      "cell_type": "code",
      "execution_count": null,
      "metadata": {
        "id": "68jzcCp5nXM5"
      },
      "outputs": [],
      "source": [
        "del homicides_df[\"HORA\"]"
      ]
    },
    {
      "cell_type": "code",
      "execution_count": null,
      "metadata": {
        "id": "hTuwmIMonXM5"
      },
      "outputs": [],
      "source": [
        "homicides_df[\"FECHA\"].head()"
      ]
    },
    {
      "cell_type": "code",
      "execution_count": null,
      "metadata": {
        "id": "WkAUo-NLnXM6"
      },
      "outputs": [],
      "source": [
        "# Making a new expression for datetime parsing\n",
        "dateparse = lambda x: datetime.strptime(x, \"%Y-%m-%d %H:%M\")"
      ]
    },
    {
      "cell_type": "code",
      "execution_count": null,
      "metadata": {
        "id": "ufL6iQObnXM6"
      },
      "outputs": [],
      "source": [
        "# Applying the expression\n",
        "homicides_df[\"FECHA\"] = homicides_df[\"FECHA\"].apply(dateparse)"
      ]
    },
    {
      "cell_type": "code",
      "execution_count": null,
      "metadata": {
        "id": "W1WJ0FOSnXM6"
      },
      "outputs": [],
      "source": [
        "homicides_df.dtypes"
      ]
    },
    {
      "cell_type": "code",
      "execution_count": null,
      "metadata": {
        "id": "8LuuF4KCnXM6"
      },
      "outputs": [],
      "source": [
        "homicides_df.head()"
      ]
    },
    {
      "cell_type": "code",
      "execution_count": null,
      "metadata": {
        "id": "HW5HApB9nXM7"
      },
      "outputs": [],
      "source": [
        "# Creating a dictionary representing the valid departments for Colombia\n",
        "departments_list = ['ANTIOQUIA', 'ATLÁNTICO', 'BOLÍVAR', 'BOYACÁ', 'CALDAS', 'CAQUETÁ',\n",
        "       'CASANARE', 'CAUCA', 'CESAR', 'CHOCÓ', 'CÓRDOBA', 'META',\n",
        "       'CUNDINAMARCA', 'HUILA', 'MAGDALENA', 'NARIÑO', 'PUTUMAYO',\n",
        "       'RISARALDA', 'SANTANDER', 'SUCRE', 'TOLIMA', 'VALLE',\n",
        "       'NORTE DE SANTANDER', 'GUAJIRA', 'QUINDÍO', 'SAN ANDRÉS Y PROVIDENCIA', 'ARAUCA',\n",
        "       'GUAINÍA', 'VICHADA', 'VAUPÉS', 'GUAVIARE', 'AMAZONAS']"
      ]
    },
    {
      "cell_type": "code",
      "execution_count": null,
      "metadata": {
        "id": "NyF0eBJYnXM7"
      },
      "outputs": [],
      "source": [
        "# Finding values not matching with the dictionary\n",
        "homicides_df.loc[~homicides_df[\"DEPARTAMENTO\"].isin(departments_list), \"DEPARTAMENTO\"].unique()"
      ]
    },
    {
      "cell_type": "markdown",
      "metadata": {
        "id": "GHrfMOconXM7"
      },
      "source": [
        "<span style=\"color:red\">TODO: Replace the values identified as error to a valid value from the dictionary</span>\n",
        "\n",
        "<span style=\"color:red\">Hint: You can use the replace() pandas function</span>"
      ]
    },
    {
      "cell_type": "code",
      "execution_count": null,
      "metadata": {
        "id": "Mzrrr_1ynXM7"
      },
      "outputs": [],
      "source": []
    },
    {
      "cell_type": "code",
      "execution_count": null,
      "metadata": {
        "id": "pe4AOcDLnXM7"
      },
      "outputs": [],
      "source": [
        "# Detecting duplicates by \"CÉDULA\" column\n",
        "duplicates_by_cedula = homicides_df.loc[homicides_df[\"CÉDULA\"].duplicated(keep = False)]"
      ]
    },
    {
      "cell_type": "code",
      "execution_count": null,
      "metadata": {
        "id": "GUZaHjb7nXM8"
      },
      "outputs": [],
      "source": [
        "duplicates_by_cedula.shape"
      ]
    },
    {
      "cell_type": "code",
      "execution_count": null,
      "metadata": {
        "id": "zFl026m7nXM8"
      },
      "outputs": [],
      "source": [
        "# Showing some examples\n",
        "duplicates_by_cedula.sort_values(\"CÉDULA\", ascending = True).head(6)"
      ]
    },
    {
      "cell_type": "markdown",
      "metadata": {
        "id": "V-8e0Z5EnXM8"
      },
      "source": [
        "<span style=\"color:red\">TODO: Delete records with \"CÉDULA\" duplicated</span>\n",
        "\n",
        "<span style=\"color:red\">Hint: You can use drop_duplicates() pandas function.</span>"
      ]
    },
    {
      "cell_type": "code",
      "execution_count": null,
      "metadata": {
        "id": "gNXpbhCvnXM8"
      },
      "outputs": [],
      "source": []
    },
    {
      "cell_type": "code",
      "execution_count": null,
      "metadata": {
        "id": "11j6olw5nXM8"
      },
      "outputs": [],
      "source": [
        "# Using regular expressions for validating if \"CÉDULA\" values match the pattern XX-XXX\n",
        "cedula_malformed = homicides_df.loc[homicides_df[\"CÉDULA\"].apply(lambda x: (re.match(\"\\d{2}-\\d{3}\", x) is None))]"
      ]
    },
    {
      "cell_type": "code",
      "execution_count": null,
      "metadata": {
        "id": "BovVYVBonXM9"
      },
      "outputs": [],
      "source": [
        "cedula_malformed.shape"
      ]
    },
    {
      "cell_type": "code",
      "execution_count": null,
      "metadata": {
        "id": "dJx__S4MnXM9"
      },
      "outputs": [],
      "source": [
        "cedula_malformed.head(6)"
      ]
    },
    {
      "cell_type": "markdown",
      "metadata": {
        "id": "x4dVkCnMnXM9"
      },
      "source": [
        "<span style=\"color:red\">TODO: Fix the malformed \"CÉDULA\" values.</span>"
      ]
    },
    {
      "cell_type": "code",
      "execution_count": null,
      "metadata": {
        "id": "WT1QxnaHnXM9"
      },
      "outputs": [],
      "source": []
    },
    {
      "cell_type": "markdown",
      "metadata": {
        "id": "Y2J75BvInXM9"
      },
      "source": [
        "<span style=\"color:red\">TODO: Make something similar to check and fix the \"CORREO\" column (PATTERN: 4 digits before the @, only .edu.co and .com domains are allowed)</span>"
      ]
    },
    {
      "cell_type": "code",
      "execution_count": null,
      "metadata": {
        "id": "tnKH6N9wnXM9"
      },
      "outputs": [],
      "source": []
    },
    {
      "cell_type": "code",
      "execution_count": null,
      "metadata": {
        "id": "02jogUlnnXM9"
      },
      "outputs": [],
      "source": [
        "# Showing different values for \"DIA\" column\n",
        "homicides_df[\"DIA\"].unique()"
      ]
    },
    {
      "cell_type": "code",
      "execution_count": null,
      "metadata": {
        "id": "I-RDBxg2nXM9"
      },
      "outputs": [],
      "source": [
        "# Calculating the distance between two words using the Levenshtein method\n",
        "pylev.levenshtein('sábado', 'sabaod')"
      ]
    },
    {
      "cell_type": "code",
      "execution_count": null,
      "metadata": {
        "id": "Vjh4Jg4JnXM-"
      },
      "outputs": [],
      "source": [
        "pylev.levenshtein('sábado', 'viernes')"
      ]
    },
    {
      "cell_type": "markdown",
      "metadata": {
        "id": "Sh0efuKCnXM-"
      },
      "source": [
        "<span style=\"color:red\">TODO: Create a function to fix the digitation errors for \"DIA\" column.</span>"
      ]
    },
    {
      "cell_type": "code",
      "execution_count": null,
      "metadata": {
        "id": "22TcJfWynXM-"
      },
      "outputs": [],
      "source": []
    },
    {
      "cell_type": "code",
      "execution_count": null,
      "metadata": {
        "id": "afP_gwqLnXM-"
      },
      "outputs": [],
      "source": [
        "homicides_df[\"DIA\"].unique()"
      ]
    },
    {
      "cell_type": "code",
      "execution_count": null,
      "metadata": {
        "id": "2JL4ZwVenXM-"
      },
      "outputs": [],
      "source": [
        "homicides_df[[\"AÑO DE NACIMIENTO\", \"EDAD\"]].head(10)"
      ]
    },
    {
      "cell_type": "markdown",
      "metadata": {
        "id": "yezsh6vcnXM-"
      },
      "source": [
        "<span style=\"color:red\">TODO: Fix the \"AÑO DE NACIMIENTO\" column using the column \"EDAD\".</span>"
      ]
    },
    {
      "cell_type": "code",
      "execution_count": null,
      "metadata": {
        "id": "Zw1zIEWAnXM-"
      },
      "outputs": [],
      "source": []
    }
  ],
  "metadata": {
    "kernelspec": {
      "display_name": "Python 3 (ipykernel)",
      "language": "python",
      "name": "python3"
    },
    "language_info": {
      "codemirror_mode": {
        "name": "ipython",
        "version": 3
      },
      "file_extension": ".py",
      "mimetype": "text/x-python",
      "name": "python",
      "nbconvert_exporter": "python",
      "pygments_lexer": "ipython3",
      "version": "3.9.12"
    },
    "colab": {
      "provenance": [],
      "include_colab_link": true
    }
  },
  "nbformat": 4,
  "nbformat_minor": 0
}